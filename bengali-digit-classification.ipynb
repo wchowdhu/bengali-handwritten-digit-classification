{
 "cells": [
  {
   "cell_type": "markdown",
   "id": "9d240b4a",
   "metadata": {
    "papermill": {
     "duration": 0.035111,
     "end_time": "2022-04-27T02:54:54.754152",
     "exception": false,
     "start_time": "2022-04-27T02:54:54.719041",
     "status": "completed"
    },
    "tags": []
   },
   "source": [
    "## Problem Statement\n",
    "\n",
    "This notebook is a beginner's tutorial on how to classify handwritten digits using a custom dataset to train a neural network model. MNIST dataset is a popular image dataset that can be easily accessed using Pytorch or Tensorflow and has given state-of-the-art results in classifying English handwritten digits. But the dataset doesn't consist of images of digits for resource-contrained languages like Bengali. \n",
    "\n",
    "Hence, in this tutorial I introduce a new [Bengali dataset](https://www.kaggle.com/datasets/wchowdhu/bengali-digits) and use this dataset to implement a Bengali digit recognition system in PyTorch. The learned model takes as input an image of a Bengali digit and outputs the corresponding digit number from the 10 output classes. \n",
    "\n",
    "Please feel free to use the new Bengali dataset and this tutorial for experimentation :)\n",
    "\n",
    "Let's get started!"
   ]
  },
  {
   "cell_type": "markdown",
   "id": "2f918900",
   "metadata": {
    "papermill": {
     "duration": 0.033805,
     "end_time": "2022-04-27T02:54:54.824471",
     "exception": false,
     "start_time": "2022-04-27T02:54:54.790666",
     "status": "completed"
    },
    "tags": []
   },
   "source": [
    "## Import Necessary Libraries"
   ]
  },
  {
   "cell_type": "code",
   "execution_count": 1,
   "id": "54d7ff47",
   "metadata": {
    "execution": {
     "iopub.execute_input": "2022-04-27T02:54:54.907284Z",
     "iopub.status.busy": "2022-04-27T02:54:54.906399Z",
     "iopub.status.idle": "2022-04-27T02:54:57.287969Z",
     "shell.execute_reply": "2022-04-27T02:54:57.288422Z",
     "shell.execute_reply.started": "2022-04-27T02:20:49.057034Z"
    },
    "papermill": {
     "duration": 2.427987,
     "end_time": "2022-04-27T02:54:57.288716",
     "exception": false,
     "start_time": "2022-04-27T02:54:54.860729",
     "status": "completed"
    },
    "tags": []
   },
   "outputs": [],
   "source": [
    "import glob\n",
    "import os\n",
    "import pandas as pd\n",
    "import numpy as np\n",
    "import matplotlib.pyplot as plt\n",
    "import sys\n",
    "import random\n",
    "import cv2\n",
    "import numpy as np\n",
    "import torch\n",
    "import torch.nn as nn\n",
    "import torch.nn.functional as F\n",
    "import torch.optim as optim\n",
    "import torchvision.transforms as transforms\n",
    "import torchvision\n",
    "from torch.utils.data import DataLoader,Dataset\n",
    "from tqdm.notebook import trange\n",
    "from sklearn import metrics\n",
    "from sklearn.metrics import classification_report, accuracy_score\n",
    "from sklearn.model_selection import train_test_split"
   ]
  },
  {
   "cell_type": "markdown",
   "id": "8c91913c",
   "metadata": {
    "papermill": {
     "duration": 0.033783,
     "end_time": "2022-04-27T02:54:57.356996",
     "exception": false,
     "start_time": "2022-04-27T02:54:57.323213",
     "status": "completed"
    },
    "tags": []
   },
   "source": [
    "## Analyze the Dataset"
   ]
  },
  {
   "cell_type": "markdown",
   "id": "915f7481",
   "metadata": {
    "papermill": {
     "duration": 0.034342,
     "end_time": "2022-04-27T02:54:57.425528",
     "exception": false,
     "start_time": "2022-04-27T02:54:57.391186",
     "status": "completed"
    },
    "tags": []
   },
   "source": [
    "The dataset is structured into 10 folders, each folder contains images of Bengali digits for the corresponding number:\n",
    "\n",
    "    0 --> ০\n",
    "    1 --> ১\n",
    "    2 --> ২\n",
    "    3 --> ৩\n",
    "    4 --> ৪\n",
    "    5 --> ৫\n",
    "    6 --> ৬\n",
    "    7 --> ৭\n",
    "    8 --> ৮\n",
    "    9 --> ৯"
   ]
  },
  {
   "cell_type": "code",
   "execution_count": 2,
   "id": "d9674f35",
   "metadata": {
    "execution": {
     "iopub.execute_input": "2022-04-27T02:54:57.498405Z",
     "iopub.status.busy": "2022-04-27T02:54:57.497841Z",
     "iopub.status.idle": "2022-04-27T02:54:57.512735Z",
     "shell.execute_reply": "2022-04-27T02:54:57.512297Z",
     "shell.execute_reply.started": "2022-04-27T02:20:51.528785Z"
    },
    "papermill": {
     "duration": 0.05266,
     "end_time": "2022-04-27T02:54:57.512849",
     "exception": false,
     "start_time": "2022-04-27T02:54:57.460189",
     "status": "completed"
    },
    "tags": []
   },
   "outputs": [
    {
     "data": {
      "text/plain": [
       "['../input/bengali-digits/bengali_digits/7',\n",
       " '../input/bengali-digits/bengali_digits/2',\n",
       " '../input/bengali-digits/bengali_digits/5',\n",
       " '../input/bengali-digits/bengali_digits/8',\n",
       " '../input/bengali-digits/bengali_digits/0',\n",
       " '../input/bengali-digits/bengali_digits/3',\n",
       " '../input/bengali-digits/bengali_digits/1',\n",
       " '../input/bengali-digits/bengali_digits/4',\n",
       " '../input/bengali-digits/bengali_digits/9',\n",
       " '../input/bengali-digits/bengali_digits/6']"
      ]
     },
     "execution_count": 2,
     "metadata": {},
     "output_type": "execute_result"
    }
   ],
   "source": [
    "folders = glob.glob(\"../input/bengali-digits/bengali_digits/**\")\n",
    "len(folders)\n",
    "folders"
   ]
  },
  {
   "cell_type": "markdown",
   "id": "b8af8d90",
   "metadata": {
    "papermill": {
     "duration": 0.036176,
     "end_time": "2022-04-27T02:54:57.583642",
     "exception": false,
     "start_time": "2022-04-27T02:54:57.547466",
     "status": "completed"
    },
    "tags": []
   },
   "source": [
    "There are total of 15,620 images in the entire dataset as printed below"
   ]
  },
  {
   "cell_type": "code",
   "execution_count": 3,
   "id": "5baed093",
   "metadata": {
    "execution": {
     "iopub.execute_input": "2022-04-27T02:54:57.657011Z",
     "iopub.status.busy": "2022-04-27T02:54:57.656486Z",
     "iopub.status.idle": "2022-04-27T02:54:59.377633Z",
     "shell.execute_reply": "2022-04-27T02:54:59.378825Z",
     "shell.execute_reply.started": "2022-04-27T02:20:51.543762Z"
    },
    "papermill": {
     "duration": 1.760142,
     "end_time": "2022-04-27T02:54:59.379046",
     "exception": false,
     "start_time": "2022-04-27T02:54:57.618904",
     "status": "completed"
    },
    "tags": []
   },
   "outputs": [
    {
     "name": "stdout",
     "output_type": "stream",
     "text": [
      "Size of the dataset: 15620\n"
     ]
    }
   ],
   "source": [
    "files = glob.glob(\"../input/bengali-digits/bengali_digits/**/*.jpg\") \n",
    "print(\"Size of the dataset: {}\".format(len(files)))"
   ]
  },
  {
   "cell_type": "markdown",
   "id": "cd1dd908",
   "metadata": {
    "papermill": {
     "duration": 0.034913,
     "end_time": "2022-04-27T02:54:59.449349",
     "exception": false,
     "start_time": "2022-04-27T02:54:59.414436",
     "status": "completed"
    },
    "tags": []
   },
   "source": [
    "Let's now look at the class distribution whether dataset is balanced across the 10 classes"
   ]
  },
  {
   "cell_type": "code",
   "execution_count": 4,
   "id": "a2d4f3f1",
   "metadata": {
    "execution": {
     "iopub.execute_input": "2022-04-27T02:54:59.528052Z",
     "iopub.status.busy": "2022-04-27T02:54:59.527192Z",
     "iopub.status.idle": "2022-04-27T02:54:59.880977Z",
     "shell.execute_reply": "2022-04-27T02:54:59.882125Z",
     "shell.execute_reply.started": "2022-04-27T02:20:53.350410Z"
    },
    "papermill": {
     "duration": 0.397826,
     "end_time": "2022-04-27T02:54:59.882370",
     "exception": false,
     "start_time": "2022-04-27T02:54:59.484544",
     "status": "completed"
    },
    "tags": []
   },
   "outputs": [
    {
     "data": {
      "image/png": "[encoded data removed]",
      "text/plain": [
       "<Figure size 720x504 with 1 Axes>"
      ]
     },
     "metadata": {},
     "output_type": "display_data"
    }
   ],
   "source": [
    "lens = []\n",
    "for folder_path in folders:\n",
    "  files = glob.glob(os.path.join(folder_path, '*.jpg'))\n",
    "  lens.append(len(files))\n",
    "\n",
    "numbers = ['7', '2', '5', '8', '0', '3', '1', '4', '9', '6'] \n",
    "# Creating plot\n",
    "fig = plt.figure(figsize =(10, 7))\n",
    "plt.pie(lens, labels=numbers, startangle=90, autopct='%1.1f%%')\n",
    "plt.show()"
   ]
  },
  {
   "cell_type": "markdown",
   "id": "d5180867",
   "metadata": {
    "papermill": {
     "duration": 0.037603,
     "end_time": "2022-04-27T02:54:59.983549",
     "exception": false,
     "start_time": "2022-04-27T02:54:59.945946",
     "status": "completed"
    },
    "tags": []
   },
   "source": [
    "We can see that the data is distributed fairly across the 10 output classes"
   ]
  },
  {
   "cell_type": "markdown",
   "id": "3bd2cbad",
   "metadata": {
    "papermill": {
     "duration": 0.035826,
     "end_time": "2022-04-27T02:55:00.055780",
     "exception": false,
     "start_time": "2022-04-27T02:55:00.019954",
     "status": "completed"
    },
    "tags": []
   },
   "source": [
    "## Read the Data"
   ]
  },
  {
   "cell_type": "markdown",
   "id": "b6698bf8",
   "metadata": {
    "papermill": {
     "duration": 0.035487,
     "end_time": "2022-04-27T02:55:00.126736",
     "exception": false,
     "start_time": "2022-04-27T02:55:00.091249",
     "status": "completed"
    },
    "tags": []
   },
   "source": [
    "Read the data files from the source directory and assign corresponding target labels to the images. The image files and corresponding labels are then loaded into a pandas dataframe."
   ]
  },
  {
   "cell_type": "code",
   "execution_count": 5,
   "id": "b3558d70",
   "metadata": {
    "execution": {
     "iopub.execute_input": "2022-04-27T02:55:00.206130Z",
     "iopub.status.busy": "2022-04-27T02:55:00.205343Z",
     "iopub.status.idle": "2022-04-27T02:55:00.288085Z",
     "shell.execute_reply": "2022-04-27T02:55:00.288482Z",
     "shell.execute_reply.started": "2022-04-27T02:20:53.708337Z"
    },
    "papermill": {
     "duration": 0.126282,
     "end_time": "2022-04-27T02:55:00.288647",
     "exception": false,
     "start_time": "2022-04-27T02:55:00.162365",
     "status": "completed"
    },
    "tags": []
   },
   "outputs": [
    {
     "data": {
      "text/html": [
       "<div>\n",
       "<style scoped>\n",
       "    .dataframe tbody tr th:only-of-type {\n",
       "        vertical-align: middle;\n",
       "    }\n",
       "\n",
       "    .dataframe tbody tr th {\n",
       "        vertical-align: top;\n",
       "    }\n",
       "\n",
       "    .dataframe thead th {\n",
       "        text-align: right;\n",
       "    }\n",
       "</style>\n",
       "<table border=\"1\" class=\"dataframe\">\n",
       "  <thead>\n",
       "    <tr style=\"text-align: right;\">\n",
       "      <th></th>\n",
       "      <th>file</th>\n",
       "      <th>label</th>\n",
       "    </tr>\n",
       "  </thead>\n",
       "  <tbody>\n",
       "    <tr>\n",
       "      <th>0</th>\n",
       "      <td>../input/bengali-digits/bengali_digits/0/1_DHA...</td>\n",
       "      <td>0</td>\n",
       "    </tr>\n",
       "    <tr>\n",
       "      <th>1</th>\n",
       "      <td>../input/bengali-digits/bengali_digits/0/1_MAD...</td>\n",
       "      <td>0</td>\n",
       "    </tr>\n",
       "    <tr>\n",
       "      <th>2</th>\n",
       "      <td>../input/bengali-digits/bengali_digits/0/1_DHA...</td>\n",
       "      <td>0</td>\n",
       "    </tr>\n",
       "    <tr>\n",
       "      <th>3</th>\n",
       "      <td>../input/bengali-digits/bengali_digits/0/1_NOA...</td>\n",
       "      <td>0</td>\n",
       "    </tr>\n",
       "    <tr>\n",
       "      <th>4</th>\n",
       "      <td>../input/bengali-digits/bengali_digits/0/1_B.B...</td>\n",
       "      <td>0</td>\n",
       "    </tr>\n",
       "  </tbody>\n",
       "</table>\n",
       "</div>"
      ],
      "text/plain": [
       "                                                file  label\n",
       "0  ../input/bengali-digits/bengali_digits/0/1_DHA...      0\n",
       "1  ../input/bengali-digits/bengali_digits/0/1_MAD...      0\n",
       "2  ../input/bengali-digits/bengali_digits/0/1_DHA...      0\n",
       "3  ../input/bengali-digits/bengali_digits/0/1_NOA...      0\n",
       "4  ../input/bengali-digits/bengali_digits/0/1_B.B...      0"
      ]
     },
     "execution_count": 5,
     "metadata": {},
     "output_type": "execute_result"
    }
   ],
   "source": [
    "def read_data(data_dir='../input/bengali-digits/bengali_digits'):\n",
    "    ''' Read data from source directory '''\n",
    "    data = []\n",
    "    labels = []\n",
    "    for data_type in ['0', '1', '2', '3', '4', '5', '6', '7', '8', '9']:\n",
    "        digit = int(data_type[-1])\n",
    "        path = os.path.join(data_dir, data_type, '*.jpg')\n",
    "        files = glob.glob(path)\n",
    "        for f in files:\n",
    "            data.append(f)\n",
    "            labels.append(digit)\n",
    "    assert len(data) == len(labels), \"{}/{} Data size does not match labels size\".format(len(data), len(labels))\n",
    "    return data, labels\n",
    "\n",
    "\n",
    "source_dir = '../input/bengali-digits/bengali_digits'\n",
    "data, labels = read_data(source_dir)\n",
    "assert len(data) == len(labels), \"Number of image files do not match number of labels!\"\n",
    "\n",
    "df = pd.DataFrame(list(zip(data, labels)), columns =['file', 'label'])\n",
    "df.head()"
   ]
  },
  {
   "cell_type": "markdown",
   "id": "bdba4d1d",
   "metadata": {
    "papermill": {
     "duration": 0.056912,
     "end_time": "2022-04-27T02:55:00.382185",
     "exception": false,
     "start_time": "2022-04-27T02:55:00.325273",
     "status": "completed"
    },
    "tags": []
   },
   "source": [
    "## Split Data into Train-Validation-Test Subsets"
   ]
  },
  {
   "cell_type": "markdown",
   "id": "f5e68df2",
   "metadata": {
    "papermill": {
     "duration": 0.056214,
     "end_time": "2022-04-27T02:55:00.506720",
     "exception": false,
     "start_time": "2022-04-27T02:55:00.450506",
     "status": "completed"
    },
    "tags": []
   },
   "source": [
    "The dataset is split into separate training, validation, and test subsets to train and evaluate the performance of the machine learning model. Stratification is applied to preserve the original distribution of the target classes."
   ]
  },
  {
   "cell_type": "code",
   "execution_count": 6,
   "id": "24e977a1",
   "metadata": {
    "execution": {
     "iopub.execute_input": "2022-04-27T02:55:00.636785Z",
     "iopub.status.busy": "2022-04-27T02:55:00.635811Z",
     "iopub.status.idle": "2022-04-27T02:55:00.672613Z",
     "shell.execute_reply": "2022-04-27T02:55:00.673624Z",
     "shell.execute_reply.started": "2022-04-27T02:20:53.823017Z"
    },
    "papermill": {
     "duration": 0.109505,
     "end_time": "2022-04-27T02:55:00.673831",
     "exception": false,
     "start_time": "2022-04-27T02:55:00.564326",
     "status": "completed"
    },
    "tags": []
   },
   "outputs": [
    {
     "name": "stdout",
     "output_type": "stream",
     "text": [
      "Total Training Examples: 11246\n",
      "Total Validation Examples: 1250\n",
      "Total Test Examples: 3124\n"
     ]
    }
   ],
   "source": [
    "def split_data(df, tsize=0.2):\n",
    "    ''' Split the dataset into train-test subsets '''\n",
    "    train, test = train_test_split(df, test_size=tsize, shuffle=True, stratify=df.label, random_state=123)\n",
    "    train.reset_index(drop=True, inplace=True)\n",
    "    test.reset_index(drop=True, inplace=True)\n",
    "    return train, test\n",
    "\n",
    "train, test_subset = split_data(df, tsize=0.2)\n",
    "train_subset, val_subset = split_data(train, tsize=0.1)\n",
    "\n",
    "print(\"Total Training Examples: {}\".format(len(train_subset)))\n",
    "print(\"Total Validation Examples: {}\".format(len(val_subset)))\n",
    "print(\"Total Test Examples: {}\".format(len(test_subset)))"
   ]
  },
  {
   "cell_type": "markdown",
   "id": "8f9c3a52",
   "metadata": {
    "papermill": {
     "duration": 0.058734,
     "end_time": "2022-04-27T02:55:00.791158",
     "exception": false,
     "start_time": "2022-04-27T02:55:00.732424",
     "status": "completed"
    },
    "tags": []
   },
   "source": [
    "## Create a Custom Bengali Dataset Class "
   ]
  },
  {
   "cell_type": "markdown",
   "id": "8f0a23b6",
   "metadata": {
    "papermill": {
     "duration": 0.066164,
     "end_time": "2022-04-27T02:55:00.916593",
     "exception": false,
     "start_time": "2022-04-27T02:55:00.850429",
     "status": "completed"
    },
    "tags": []
   },
   "source": [
    "PyTorch provides two classes -`torch.utils.data.DataLoader` and `torch.utils.data.Dataset` using which we can load our own data and train the machine learning model in batches. A custom Bengali Dataset class is firstly created by implementing the three methods: `__init__`, `__len__`, and `__getitem__`. "
   ]
  },
  {
   "cell_type": "code",
   "execution_count": 7,
   "id": "727166bc",
   "metadata": {
    "execution": {
     "iopub.execute_input": "2022-04-27T02:55:01.048155Z",
     "iopub.status.busy": "2022-04-27T02:55:01.047350Z",
     "iopub.status.idle": "2022-04-27T02:55:01.052823Z",
     "shell.execute_reply": "2022-04-27T02:55:01.053840Z",
     "shell.execute_reply.started": "2022-04-27T02:20:53.852285Z"
    },
    "papermill": {
     "duration": 0.075853,
     "end_time": "2022-04-27T02:55:01.054025",
     "exception": false,
     "start_time": "2022-04-27T02:55:00.978172",
     "status": "completed"
    },
    "tags": []
   },
   "outputs": [],
   "source": [
    "class BengaliDigitDataset(Dataset):\n",
    "    ''' A custom class to process the Bengali handwritten digit images '''\n",
    "    \n",
    "    def __init__(self, df, transform, width=28, height=28):\n",
    "        ''' Initialize the parameters '''\n",
    "        self.df = df\n",
    "        self.transform = transform\n",
    "        self.files = df['file']\n",
    "        self.labels = df['label']\n",
    "        self.width = width\n",
    "        self.height = height\n",
    "\n",
    "    def __len__(self):\n",
    "        ''' Returns the total number of files in the dataset '''\n",
    "        return len(self.files)\n",
    "\n",
    "    def __getitem__(self, index):\n",
    "        ''' Loads a sample from the dataset at the given index, which is identified by the image’s location on disk. \n",
    "        Returns the image tensors and corresponding labels after applying transformations. '''\n",
    "        img = cv2.imread(self.files.iloc[index], cv2.COLOR_BGR2RGB)\n",
    "        img = cv2.resize(img, dsize=(self.height, self.width), interpolation=cv2.INTER_AREA) #resize all the images to fixed heightxwidth\n",
    "        img = self.transform(img)\n",
    "        label = self.labels[index]\n",
    "        return img,label"
   ]
  },
  {
   "cell_type": "markdown",
   "id": "f68e3d95",
   "metadata": {
    "papermill": {
     "duration": 0.058685,
     "end_time": "2022-04-27T02:55:01.172229",
     "exception": false,
     "start_time": "2022-04-27T02:55:01.113544",
     "status": "completed"
    },
    "tags": []
   },
   "source": [
    "## Process the Data"
   ]
  },
  {
   "cell_type": "markdown",
   "id": "6028ca67",
   "metadata": {
    "papermill": {
     "duration": 0.059581,
     "end_time": "2022-04-27T02:55:01.290885",
     "exception": false,
     "start_time": "2022-04-27T02:55:01.231304",
     "status": "completed"
    },
    "tags": []
   },
   "source": [
    "An instance of the `BengaliDigitDataset` is then created to process the Bengali digit images. \n",
    "\n",
    "The following preprocessing steps are applied to the input images:\n",
    "* Resize all the input images to a fixed shape \n",
    "* Transform raw images into tensors so that the algorithm can process them \n",
    "* Normalize the image tensors to have pixel values scaled down between -1 and 1 from 0 to 255 which helps with faster convergence"
   ]
  },
  {
   "cell_type": "code",
   "execution_count": 8,
   "id": "a8b19c88",
   "metadata": {
    "execution": {
     "iopub.execute_input": "2022-04-27T02:55:01.418726Z",
     "iopub.status.busy": "2022-04-27T02:55:01.417943Z",
     "iopub.status.idle": "2022-04-27T02:55:01.421819Z",
     "shell.execute_reply": "2022-04-27T02:55:01.422388Z",
     "shell.execute_reply.started": "2022-04-27T02:20:53.863525Z"
    },
    "papermill": {
     "duration": 0.072583,
     "end_time": "2022-04-27T02:55:01.422580",
     "exception": false,
     "start_time": "2022-04-27T02:55:01.349997",
     "status": "completed"
    },
    "tags": []
   },
   "outputs": [],
   "source": [
    "def prepocess_data(data_input, width, height):\n",
    "    ''' Preprocess the input images '''\n",
    "    transform = transforms.Compose([transforms.ToTensor(), transforms.Normalize((0.5,), (0.5,))])\n",
    "    data_processed = BengaliDigitDataset(data_input, transform, width, height)\n",
    "    return data_processed\n",
    "\n",
    "width = 28\n",
    "height = 28\n",
    "train_pr = prepocess_data(train_subset, width, height)\n",
    "val_pr = prepocess_data(val_subset, width, height)\n",
    "test_pr = prepocess_data(test_subset, width, height)"
   ]
  },
  {
   "cell_type": "markdown",
   "id": "fc88b710",
   "metadata": {
    "papermill": {
     "duration": 0.061666,
     "end_time": "2022-04-27T02:55:01.544282",
     "exception": false,
     "start_time": "2022-04-27T02:55:01.482616",
     "status": "completed"
    },
    "tags": []
   },
   "source": [
    "Let's visualize a processed image"
   ]
  },
  {
   "cell_type": "code",
   "execution_count": 9,
   "id": "9502921d",
   "metadata": {
    "execution": {
     "iopub.execute_input": "2022-04-27T02:55:01.654133Z",
     "iopub.status.busy": "2022-04-27T02:55:01.653568Z",
     "iopub.status.idle": "2022-04-27T02:55:01.892838Z",
     "shell.execute_reply": "2022-04-27T02:55:01.893425Z",
     "shell.execute_reply.started": "2022-04-27T02:20:53.872944Z"
    },
    "papermill": {
     "duration": 0.288003,
     "end_time": "2022-04-27T02:55:01.893621",
     "exception": false,
     "start_time": "2022-04-27T02:55:01.605618",
     "status": "completed"
    },
    "tags": []
   },
   "outputs": [
    {
     "name": "stdout",
     "output_type": "stream",
     "text": [
      "torch.Size([3, 28, 28])\n",
      "9\n"
     ]
    },
    {
     "data": {
      "image/png": "[encoded data removed]",
      "text/plain": [
       "<Figure size 432x288 with 1 Axes>"
      ]
     },
     "metadata": {
      "needs_background": "light"
     },
     "output_type": "display_data"
    }
   ],
   "source": [
    "image, label = train_pr[0] #first image,label\n",
    "\n",
    "print(image.shape) #torch.Size([channels, width, height])\n",
    "\n",
    "image = image.numpy().transpose((1, 2, 0)) #transpose the image to shape torch.Size([width, height, channels])\n",
    "plt.imshow(image)\n",
    "\n",
    "print(label)"
   ]
  },
  {
   "cell_type": "markdown",
   "id": "9f3ea679",
   "metadata": {
    "papermill": {
     "duration": 0.038177,
     "end_time": "2022-04-27T02:55:01.970955",
     "exception": false,
     "start_time": "2022-04-27T02:55:01.932778",
     "status": "completed"
    },
    "tags": []
   },
   "source": [
    "## Load the Data"
   ]
  },
  {
   "cell_type": "markdown",
   "id": "05f8d677",
   "metadata": {
    "papermill": {
     "duration": 0.041513,
     "end_time": "2022-04-27T02:55:02.054418",
     "exception": false,
     "start_time": "2022-04-27T02:55:02.012905",
     "status": "completed"
    },
    "tags": []
   },
   "source": [
    "The transformed image tensors are then loaded into the DataLoader which iterates through the dataset in minibatches and reshuffles the data at every epoch to reduce model overfitting."
   ]
  },
  {
   "cell_type": "code",
   "execution_count": 10,
   "id": "e6851d49",
   "metadata": {
    "execution": {
     "iopub.execute_input": "2022-04-27T02:55:02.144519Z",
     "iopub.status.busy": "2022-04-27T02:55:02.143728Z",
     "iopub.status.idle": "2022-04-27T02:55:02.149256Z",
     "shell.execute_reply": "2022-04-27T02:55:02.148802Z",
     "shell.execute_reply.started": "2022-04-27T02:20:54.113760Z"
    },
    "papermill": {
     "duration": 0.052976,
     "end_time": "2022-04-27T02:55:02.149376",
     "exception": false,
     "start_time": "2022-04-27T02:55:02.096400",
     "status": "completed"
    },
    "tags": []
   },
   "outputs": [],
   "source": [
    "# configuration settings\n",
    "batch_size = 4000\n",
    "seed = 123\n",
    "random.seed(seed) # to get reproducible results\n",
    "torch.manual_seed(seed)\n",
    "torch.cuda.manual_seed(seed) #when using gpu\n",
    "\n",
    "train_dataloader = DataLoader(train_pr, batch_size, shuffle=True)\n",
    "val_dataloader = DataLoader(val_pr, batch_size, shuffle=False)\n",
    "test_dataloader = DataLoader(test_pr, batch_size, shuffle=False)"
   ]
  },
  {
   "cell_type": "markdown",
   "id": "0b8874e1",
   "metadata": {
    "papermill": {
     "duration": 0.041662,
     "end_time": "2022-04-27T02:55:02.232519",
     "exception": false,
     "start_time": "2022-04-27T02:55:02.190857",
     "status": "completed"
    },
    "tags": []
   },
   "source": [
    "## Define the Model Architecture"
   ]
  },
  {
   "cell_type": "markdown",
   "id": "8514a9c4",
   "metadata": {
    "papermill": {
     "duration": 0.041621,
     "end_time": "2022-04-27T02:55:02.316082",
     "exception": false,
     "start_time": "2022-04-27T02:55:02.274461",
     "status": "completed"
    },
    "tags": []
   },
   "source": [
    "A baseline neural network model is created by passing the input features into two hidden layers and adding dropout layer to avoid any overfitting."
   ]
  },
  {
   "cell_type": "code",
   "execution_count": 11,
   "id": "386fb2aa",
   "metadata": {
    "execution": {
     "iopub.execute_input": "2022-04-27T02:55:02.409797Z",
     "iopub.status.busy": "2022-04-27T02:55:02.408835Z",
     "iopub.status.idle": "2022-04-27T02:55:02.410998Z",
     "shell.execute_reply": "2022-04-27T02:55:02.411468Z",
     "shell.execute_reply.started": "2022-04-27T02:20:54.123429Z"
    },
    "papermill": {
     "duration": 0.053514,
     "end_time": "2022-04-27T02:55:02.411624",
     "exception": false,
     "start_time": "2022-04-27T02:55:02.358110",
     "status": "completed"
    },
    "tags": []
   },
   "outputs": [],
   "source": [
    "class BengaliDigitClassifier(nn.Module):\n",
    "    ''' Define the baseline model architecture '''\n",
    "    def __init__(self, input_dim=2352, output_dim=10, hidden_1=32, hidden_2=32, dropout_frc=0.2):\n",
    "        super(BengaliDigitClassifier, self).__init__()\n",
    "        self.input_layer = nn.Linear(input_dim, hidden_1) # Hidden layer-1 (input_dim -> hidden_1)\n",
    "        self.hidden_layer = nn.Linear(hidden_1, hidden_2) # Hidden layer-2 (hidden_1 -> hidden_2)\n",
    "        self.output_layer = nn.Linear(hidden_2, output_dim) # Output layer (hidden_2 -> output_dim)\n",
    "        self.dropout_layer = nn.Dropout(dropout_frc) # Dropout prevents overfitting of data\n",
    "    \n",
    "    def forward(self, x):\n",
    "        '''\n",
    "        Perform a forward pass of the model on input features x\n",
    "        :param x: A batch of input features of size (batch_size, color_channels, height, width)\n",
    "        :return: logit outputs of shape [batch size, output dim]\n",
    "        '''\n",
    "        x = x.view(x.shape[0], -1) #reshape to [batch_size, color_channelsxheightxwidth]\n",
    "        h1 = F.relu(self.input_layer(x)) # [batch size, hidden_1]\n",
    "        h1 = self.dropout_layer(h1)\n",
    "        h2 = F.relu(self.hidden_layer(h1)) # [batch size, hidden_2]\n",
    "        h2 = self.dropout_layer(h2)\n",
    "        y_pred = self.output_layer(h2) # [batch size, output_dim]\n",
    "        return y_pred"
   ]
  },
  {
   "cell_type": "markdown",
   "id": "11c6f169",
   "metadata": {
    "papermill": {
     "duration": 0.041536,
     "end_time": "2022-04-27T02:55:02.494846",
     "exception": false,
     "start_time": "2022-04-27T02:55:02.453310",
     "status": "completed"
    },
    "tags": []
   },
   "source": [
    "## Build the Model"
   ]
  },
  {
   "cell_type": "markdown",
   "id": "e5abc5fa",
   "metadata": {
    "papermill": {
     "duration": 0.03693,
     "end_time": "2022-04-27T02:55:02.568762",
     "exception": false,
     "start_time": "2022-04-27T02:55:02.531832",
     "status": "completed"
    },
    "tags": []
   },
   "source": [
    "The model is created by defining the `Adam` optimizer, `cross entropy` loss function, and the hyperparameter settings"
   ]
  },
  {
   "cell_type": "code",
   "execution_count": 12,
   "id": "b5efc901",
   "metadata": {
    "execution": {
     "iopub.execute_input": "2022-04-27T02:55:02.654139Z",
     "iopub.status.busy": "2022-04-27T02:55:02.653520Z",
     "iopub.status.idle": "2022-04-27T02:55:05.435909Z",
     "shell.execute_reply": "2022-04-27T02:55:05.436296Z",
     "shell.execute_reply.started": "2022-04-27T02:20:54.134571Z"
    },
    "papermill": {
     "duration": 2.829082,
     "end_time": "2022-04-27T02:55:05.436469",
     "exception": false,
     "start_time": "2022-04-27T02:55:02.607387",
     "status": "completed"
    },
    "tags": []
   },
   "outputs": [
    {
     "name": "stdout",
     "output_type": "stream",
     "text": [
      "Using device cuda.\n",
      "\n",
      "BengaliDigitClassifier(\n",
      "  (input_layer): Linear(in_features=2352, out_features=32, bias=True)\n",
      "  (hidden_layer): Linear(in_features=32, out_features=32, bias=True)\n",
      "  (output_layer): Linear(in_features=32, out_features=10, bias=True)\n",
      "  (dropout_layer): Dropout(p=0.2, inplace=False)\n",
      ")\n"
     ]
    }
   ],
   "source": [
    "num_channels = 3\n",
    "num_classes = 10\n",
    "input_dim = int(num_channels * height * width)\n",
    "output_dim = int(num_classes)\n",
    "learning_rate = 0.003\n",
    "n_epochs = 20\n",
    "\n",
    "model = BengaliDigitClassifier(input_dim, output_dim)\n",
    "optimizer = optim.Adam(model.parameters(), lr=learning_rate)\n",
    "criterion = nn.CrossEntropyLoss() \n",
    "device = torch.device(\"cuda\" if torch.cuda.is_available() else \"cpu\") #train on gpu if available\n",
    "print(\"Using device {}.\\n\".format(device))\n",
    "model = model.to(device)\n",
    "criterion = criterion.to(device)\n",
    "    \n",
    "print(model)"
   ]
  },
  {
   "cell_type": "markdown",
   "id": "e5ea75b6",
   "metadata": {
    "papermill": {
     "duration": 0.040324,
     "end_time": "2022-04-27T02:55:05.515472",
     "exception": false,
     "start_time": "2022-04-27T02:55:05.475148",
     "status": "completed"
    },
    "tags": []
   },
   "source": [
    "Let's count the total number of trainable parameters"
   ]
  },
  {
   "cell_type": "code",
   "execution_count": 13,
   "id": "673c3298",
   "metadata": {
    "execution": {
     "iopub.execute_input": "2022-04-27T02:55:05.598971Z",
     "iopub.status.busy": "2022-04-27T02:55:05.598160Z",
     "iopub.status.idle": "2022-04-27T02:55:05.601000Z",
     "shell.execute_reply": "2022-04-27T02:55:05.601434Z",
     "shell.execute_reply.started": "2022-04-27T02:20:56.763005Z"
    },
    "papermill": {
     "duration": 0.0474,
     "end_time": "2022-04-27T02:55:05.601593",
     "exception": false,
     "start_time": "2022-04-27T02:55:05.554193",
     "status": "completed"
    },
    "tags": []
   },
   "outputs": [
    {
     "name": "stdout",
     "output_type": "stream",
     "text": [
      "The model has total 76682 trainable parameters\n"
     ]
    }
   ],
   "source": [
    "def count_parameters(model):\n",
    "    return sum(p.numel() for p in model.parameters() if p.requires_grad)\n",
    "num_params = count_parameters(model)\n",
    "print(\"The model has total {} trainable parameters\".format(num_params))"
   ]
  },
  {
   "cell_type": "markdown",
   "id": "a4a60eec",
   "metadata": {
    "papermill": {
     "duration": 0.03865,
     "end_time": "2022-04-27T02:55:05.678494",
     "exception": false,
     "start_time": "2022-04-27T02:55:05.639844",
     "status": "completed"
    },
    "tags": []
   },
   "source": [
    "## Train the Model"
   ]
  },
  {
   "cell_type": "markdown",
   "id": "74a85dcd",
   "metadata": {
    "papermill": {
     "duration": 0.039296,
     "end_time": "2022-04-27T02:55:05.756678",
     "exception": false,
     "start_time": "2022-04-27T02:55:05.717382",
     "status": "completed"
    },
    "tags": []
   },
   "source": [
    "To train the model, let's firstly define the train and evaluation functions"
   ]
  },
  {
   "cell_type": "code",
   "execution_count": 14,
   "id": "b9c3acc7",
   "metadata": {
    "execution": {
     "iopub.execute_input": "2022-04-27T02:55:05.847017Z",
     "iopub.status.busy": "2022-04-27T02:55:05.846199Z",
     "iopub.status.idle": "2022-04-27T02:55:05.848779Z",
     "shell.execute_reply": "2022-04-27T02:55:05.848325Z",
     "shell.execute_reply.started": "2022-04-27T02:20:56.772366Z"
    },
    "papermill": {
     "duration": 0.053212,
     "end_time": "2022-04-27T02:55:05.848881",
     "exception": false,
     "start_time": "2022-04-27T02:55:05.795669",
     "status": "completed"
    },
    "tags": []
   },
   "outputs": [],
   "source": [
    "def eval_metric(predictions, labels):\n",
    "    max_predictions = predictions.argmax(axis=1, keepdim=True) #[batch_size]\n",
    "    avg_acc = round(accuracy_score(y_true=labels.to('cpu').tolist(), y_pred=max_predictions.detach().cpu().numpy()), 2)*100\n",
    "    return avg_acc\n",
    "\n",
    "def train_fn(model, train_loader, criterion, optimizer, device):\n",
    "    '''\n",
    "    Training function to run the model on training data\n",
    "    model        - The PyTorch model that we wish to train.\n",
    "    train_loader - The PyTorch DataLoader that should be used during training.\n",
    "    criterion    - The loss function used for training.\n",
    "    optimizer    - The optimizer to use during training.\n",
    "    device       - Where the model and data should be loaded (gpu or cpu).\n",
    "    '''\n",
    "    model.train() #set the model on train mode\n",
    "    total_loss, total_acc = 0, 0\n",
    "\n",
    "    for batch_x, batch_y in train_loader:\n",
    "        batch_x = batch_x.to(device)\n",
    "        batch_y = batch_y.to(device)\n",
    "        optimizer.zero_grad() # clear gradients from last batch\n",
    "        batch_y_pred = model(batch_x) # get predictions\n",
    "        loss = criterion(batch_y_pred, batch_y) # compute the loss\n",
    "        loss.backward() # compute the gradients\n",
    "        optimizer.step() # update the parameters\n",
    "        total_loss += loss.item() #aggregate the losses\n",
    "        total_acc += eval_metric(batch_y_pred, batch_y)\n",
    "    \n",
    "    loss_per_epoch = total_loss/len(train_loader)\n",
    "    acc_per_epoch = total_acc/len(train_loader)\n",
    "    return loss_per_epoch, acc_per_epoch\n",
    "\n",
    "def eval_fn(model, data_loader, criterion, device):\n",
    "    '''\n",
    "    Function to evaluate the model on validation and test data\n",
    "    model        - The PyTorch model that we wish to train.\n",
    "    data_loader - The PyTorch DataLoader that should be used during training.\n",
    "    criterion    - The loss function used for training.\n",
    "    optimizer    - The optimizer to use during training.\n",
    "    device       - Where the model and data should be loaded (gpu or cpu).\n",
    "    '''\n",
    "    model.eval() # set the model on eval mode\n",
    "    total_loss, total_acc = 0, 0\n",
    "    \n",
    "    with torch.no_grad(): # do not need to update the parameters\n",
    "        for batch_x, batch_y in data_loader:\n",
    "            batch_x = batch_x.to(device)\n",
    "            batch_y = batch_y.to(device)\n",
    "            batch_y_pred = model(batch_x) # get predictions\n",
    "            loss = criterion(batch_y_pred, batch_y) # compute the loss\n",
    "            total_loss += loss.item() #aggregate the losses\n",
    "            total_acc += eval_metric(batch_y_pred, batch_y)\n",
    "    \n",
    "    loss_per_epoch = total_loss/len(data_loader)\n",
    "    acc_per_epoch = total_acc/len(data_loader)\n",
    "    return loss_per_epoch, acc_per_epoch"
   ]
  },
  {
   "cell_type": "markdown",
   "id": "913ac7b7",
   "metadata": {
    "papermill": {
     "duration": 0.03802,
     "end_time": "2022-04-27T02:55:05.925039",
     "exception": false,
     "start_time": "2022-04-27T02:55:05.887019",
     "status": "completed"
    },
    "tags": []
   },
   "source": [
    "The model is then trained for a number of epochs by monitoring both the training as well as the validation loss and accuracy"
   ]
  },
  {
   "cell_type": "code",
   "execution_count": 15,
   "id": "df965ca9",
   "metadata": {
    "execution": {
     "iopub.execute_input": "2022-04-27T02:55:06.009497Z",
     "iopub.status.busy": "2022-04-27T02:55:06.008681Z",
     "iopub.status.idle": "2022-04-27T03:01:58.005421Z",
     "shell.execute_reply": "2022-04-27T03:01:58.004699Z",
     "shell.execute_reply.started": "2022-04-27T02:20:56.788697Z"
    },
    "papermill": {
     "duration": 412.041966,
     "end_time": "2022-04-27T03:01:58.005628",
     "exception": false,
     "start_time": "2022-04-27T02:55:05.963662",
     "status": "completed"
    },
    "tags": []
   },
   "outputs": [
    {
     "data": {
      "application/vnd.jupyter.widget-view+json": {
       "model_id": "5ae86c4ef6c44933a64602caa175c8a1",
       "version_major": 2,
       "version_minor": 0
      },
      "text/plain": [
       "Epoch:   0%|          | 0/20 [00:00<?, ?it/s]"
      ]
     },
     "metadata": {},
     "output_type": "display_data"
    },
    {
     "name": "stdout",
     "output_type": "stream",
     "text": [
      "Epoch: 0, Train Loss: 2.1940, Train Accuracy: 19.67%\n",
      "Epoch: 0, Validation Loss: 1.7774, Validation Accuracy: 40.00%\n",
      "\n",
      "Epoch: 1, Train Loss: 1.7528, Train Accuracy: 38.67%\n",
      "Epoch: 1, Validation Loss: 1.3560, Validation Accuracy: 62.00%\n",
      "\n",
      "Epoch: 2, Train Loss: 1.4247, Train Accuracy: 52.67%\n",
      "Epoch: 2, Validation Loss: 1.0249, Validation Accuracy: 74.00%\n",
      "\n",
      "Epoch: 3, Train Loss: 1.1892, Train Accuracy: 61.33%\n",
      "Epoch: 3, Validation Loss: 0.8236, Validation Accuracy: 77.00%\n",
      "\n",
      "Epoch: 4, Train Loss: 1.0059, Train Accuracy: 67.33%\n",
      "Epoch: 4, Validation Loss: 0.7103, Validation Accuracy: 79.00%\n",
      "\n",
      "Epoch: 5, Train Loss: 0.9007, Train Accuracy: 70.00%\n",
      "Epoch: 5, Validation Loss: 0.6485, Validation Accuracy: 79.00%\n",
      "\n",
      "Epoch: 6, Train Loss: 0.8188, Train Accuracy: 73.00%\n",
      "Epoch: 6, Validation Loss: 0.5982, Validation Accuracy: 80.00%\n",
      "\n",
      "Epoch: 7, Train Loss: 0.7657, Train Accuracy: 74.67%\n",
      "Epoch: 7, Validation Loss: 0.5590, Validation Accuracy: 83.00%\n",
      "\n",
      "Epoch: 8, Train Loss: 0.7161, Train Accuracy: 76.67%\n",
      "Epoch: 8, Validation Loss: 0.5354, Validation Accuracy: 83.00%\n",
      "\n",
      "Epoch: 9, Train Loss: 0.6872, Train Accuracy: 76.67%\n",
      "Epoch: 9, Validation Loss: 0.5089, Validation Accuracy: 84.00%\n",
      "\n",
      "Epoch: 10, Train Loss: 0.6344, Train Accuracy: 79.00%\n",
      "Epoch: 10, Validation Loss: 0.4861, Validation Accuracy: 85.00%\n",
      "\n",
      "Epoch: 11, Train Loss: 0.6155, Train Accuracy: 79.33%\n",
      "Epoch: 11, Validation Loss: 0.4729, Validation Accuracy: 84.00%\n",
      "\n",
      "Epoch: 12, Train Loss: 0.5890, Train Accuracy: 80.67%\n",
      "Epoch: 12, Validation Loss: 0.4630, Validation Accuracy: 85.00%\n",
      "\n",
      "Epoch: 13, Train Loss: 0.5726, Train Accuracy: 81.00%\n",
      "Epoch: 13, Validation Loss: 0.4490, Validation Accuracy: 86.00%\n",
      "\n",
      "Epoch: 14, Train Loss: 0.5567, Train Accuracy: 81.33%\n",
      "Epoch: 14, Validation Loss: 0.4383, Validation Accuracy: 86.00%\n",
      "\n",
      "Epoch: 15, Train Loss: 0.5341, Train Accuracy: 82.33%\n",
      "Epoch: 15, Validation Loss: 0.4284, Validation Accuracy: 86.00%\n",
      "\n",
      "Epoch: 16, Train Loss: 0.5200, Train Accuracy: 83.00%\n",
      "Epoch: 16, Validation Loss: 0.4228, Validation Accuracy: 87.00%\n",
      "\n",
      "Epoch: 17, Train Loss: 0.4998, Train Accuracy: 84.00%\n",
      "Epoch: 17, Validation Loss: 0.4178, Validation Accuracy: 86.00%\n",
      "\n",
      "Epoch: 18, Train Loss: 0.4947, Train Accuracy: 83.33%\n",
      "Epoch: 18, Validation Loss: 0.4105, Validation Accuracy: 87.00%\n",
      "\n",
      "Epoch: 19, Train Loss: 0.4747, Train Accuracy: 84.67%\n",
      "Epoch: 19, Validation Loss: 0.4093, Validation Accuracy: 86.00%\n",
      "\n"
     ]
    }
   ],
   "source": [
    "train_losses, validation_losses = [], [] # Store train and validation losses for plotting\n",
    "train_accuracies, validation_accuracies = [], []\n",
    "best_val_loss = float('inf')\n",
    "\n",
    "for epoch in trange(n_epochs, desc=\"Epoch\"):\n",
    "  train_loss_per_epoch, train_acc_per_epoch = train_fn(model, train_dataloader, criterion, optimizer, device)\n",
    "  val_loss_per_epoch, val_acc_per_epoch = eval_fn(model, val_dataloader, criterion, device)\n",
    "\n",
    "  train_losses.append(train_loss_per_epoch)\n",
    "  validation_losses.append(val_loss_per_epoch)\n",
    "  train_accuracies.append(train_acc_per_epoch)\n",
    "  validation_accuracies.append(val_acc_per_epoch)\n",
    "\n",
    "  if val_loss_per_epoch < best_val_loss:\n",
    "    best_val_loss = val_loss_per_epoch\n",
    "    torch.save(model.state_dict(), 'model.pt')\n",
    "\n",
    "  print(\"Epoch: {}, Train Loss: {:.4f}, Train Accuracy: {:.2f}%\".format(epoch, train_loss_per_epoch, train_acc_per_epoch))\n",
    "  print(\"Epoch: {}, Validation Loss: {:.4f}, Validation Accuracy: {:.2f}%\\n\".format(epoch, val_loss_per_epoch, val_acc_per_epoch))"
   ]
  },
  {
   "cell_type": "markdown",
   "id": "97e110c3",
   "metadata": {
    "papermill": {
     "duration": 0.045052,
     "end_time": "2022-04-27T03:01:58.098158",
     "exception": false,
     "start_time": "2022-04-27T03:01:58.053106",
     "status": "completed"
    },
    "tags": []
   },
   "source": [
    "## Plot Training and Validation Losses over all Epochs"
   ]
  },
  {
   "cell_type": "code",
   "execution_count": 16,
   "id": "b70b1b63",
   "metadata": {
    "execution": {
     "iopub.execute_input": "2022-04-27T03:01:58.206284Z",
     "iopub.status.busy": "2022-04-27T03:01:58.204339Z",
     "iopub.status.idle": "2022-04-27T03:01:58.412235Z",
     "shell.execute_reply": "2022-04-27T03:01:58.411750Z",
     "shell.execute_reply.started": "2022-04-27T02:26:28.773694Z"
    },
    "papermill": {
     "duration": 0.269198,
     "end_time": "2022-04-27T03:01:58.412364",
     "exception": false,
     "start_time": "2022-04-27T03:01:58.143166",
     "status": "completed"
    },
    "tags": []
   },
   "outputs": [
    {
     "data": {
      "image/png": "[encoded data removed]",
      "text/plain": [
       "<Figure size 432x288 with 1 Axes>"
      ]
     },
     "metadata": {
      "needs_background": "light"
     },
     "output_type": "display_data"
    }
   ],
   "source": [
    "epochs = range(1, n_epochs+1)\n",
    "plt.plot(epochs, train_losses, 'g', label='Training loss')\n",
    "plt.plot(epochs, validation_losses, 'b', label='Validation loss')\n",
    "plt.title('Training and Validation loss')\n",
    "plt.xlabel('Epochs')\n",
    "plt.ylabel('Loss')\n",
    "plt.legend()\n",
    "plt.show()"
   ]
  },
  {
   "cell_type": "markdown",
   "id": "c2b78514",
   "metadata": {
    "papermill": {
     "duration": 0.051787,
     "end_time": "2022-04-27T03:01:58.516909",
     "exception": false,
     "start_time": "2022-04-27T03:01:58.465122",
     "status": "completed"
    },
    "tags": []
   },
   "source": [
    "## Plot Training and Validation Accuracies over all Epochs"
   ]
  },
  {
   "cell_type": "code",
   "execution_count": 17,
   "id": "8db9d971",
   "metadata": {
    "execution": {
     "iopub.execute_input": "2022-04-27T03:01:58.754934Z",
     "iopub.status.busy": "2022-04-27T03:01:58.753945Z",
     "iopub.status.idle": "2022-04-27T03:01:58.947782Z",
     "shell.execute_reply": "2022-04-27T03:01:58.947033Z",
     "shell.execute_reply.started": "2022-04-27T02:26:28.974233Z"
    },
    "papermill": {
     "duration": 0.378998,
     "end_time": "2022-04-27T03:01:58.947904",
     "exception": false,
     "start_time": "2022-04-27T03:01:58.568906",
     "status": "completed"
    },
    "tags": []
   },
   "outputs": [
    {
     "data": {
      "image/png": "[encoded data removed]",
      "text/plain": [
       "<Figure size 432x288 with 1 Axes>"
      ]
     },
     "metadata": {
      "needs_background": "light"
     },
     "output_type": "display_data"
    }
   ],
   "source": [
    "epochs = range(1, n_epochs+1)\n",
    "plt.plot(epochs, train_accuracies, 'r', label='Train Accuracy')\n",
    "plt.plot(epochs, validation_accuracies, 'm', label='Validation Accuracy')\n",
    "plt.title('Average Accuracy')\n",
    "plt.xlabel('Epochs')\n",
    "plt.ylabel('Accuracy')\n",
    "plt.legend()\n",
    "plt.show()"
   ]
  },
  {
   "cell_type": "markdown",
   "id": "0160ace1",
   "metadata": {
    "papermill": {
     "duration": 0.047727,
     "end_time": "2022-04-27T03:01:59.043474",
     "exception": false,
     "start_time": "2022-04-27T03:01:58.995747",
     "status": "completed"
    },
    "tags": []
   },
   "source": [
    "## Evaluate the Model on Test Data"
   ]
  },
  {
   "cell_type": "markdown",
   "id": "24427157",
   "metadata": {
    "papermill": {
     "duration": 0.046787,
     "end_time": "2022-04-27T03:01:59.137751",
     "exception": false,
     "start_time": "2022-04-27T03:01:59.090964",
     "status": "completed"
    },
    "tags": []
   },
   "source": [
    "The saved parameters of the best model is loaded and the performance of the model on the test subset is evaluated"
   ]
  },
  {
   "cell_type": "code",
   "execution_count": 18,
   "id": "0d3aea01",
   "metadata": {
    "execution": {
     "iopub.execute_input": "2022-04-27T03:01:59.236606Z",
     "iopub.status.busy": "2022-04-27T03:01:59.235791Z",
     "iopub.status.idle": "2022-04-27T03:02:13.926079Z",
     "shell.execute_reply": "2022-04-27T03:02:13.926677Z",
     "shell.execute_reply.started": "2022-04-27T02:26:29.395961Z"
    },
    "papermill": {
     "duration": 14.742299,
     "end_time": "2022-04-27T03:02:13.926889",
     "exception": false,
     "start_time": "2022-04-27T03:01:59.184590",
     "status": "completed"
    },
    "tags": []
   },
   "outputs": [
    {
     "name": "stdout",
     "output_type": "stream",
     "text": [
      "Test Loss: 0.4253, Test Accuracy: 86.00%\n"
     ]
    }
   ],
   "source": [
    "model.load_state_dict(torch.load('model.pt'))\n",
    "test_loss, test_accuracy = eval_fn(model, test_dataloader, criterion, device)\n",
    "print(\"Test Loss: {:.4f}, Test Accuracy: {:.2f}%\".format(test_loss, test_accuracy))"
   ]
  },
  {
   "cell_type": "markdown",
   "id": "4652a510",
   "metadata": {
    "papermill": {
     "duration": 0.054067,
     "end_time": "2022-04-27T03:02:14.033688",
     "exception": false,
     "start_time": "2022-04-27T03:02:13.979621",
     "status": "completed"
    },
    "tags": []
   },
   "source": [
    "## Look at the Confusion Matrix"
   ]
  },
  {
   "cell_type": "markdown",
   "id": "a716e021",
   "metadata": {
    "papermill": {
     "duration": 0.052743,
     "end_time": "2022-04-27T03:02:14.139932",
     "exception": false,
     "start_time": "2022-04-27T03:02:14.087189",
     "status": "completed"
    },
    "tags": []
   },
   "source": [
    "Let's visualize the confusion matrix to evaluate the model performance for each class on the test data"
   ]
  },
  {
   "cell_type": "code",
   "execution_count": 19,
   "id": "faf5db12",
   "metadata": {
    "execution": {
     "iopub.execute_input": "2022-04-27T03:02:14.256243Z",
     "iopub.status.busy": "2022-04-27T03:02:14.253357Z",
     "iopub.status.idle": "2022-04-27T03:02:19.719331Z",
     "shell.execute_reply": "2022-04-27T03:02:19.719907Z",
     "shell.execute_reply.started": "2022-04-27T02:26:44.892132Z"
    },
    "papermill": {
     "duration": 5.527147,
     "end_time": "2022-04-27T03:02:19.720076",
     "exception": false,
     "start_time": "2022-04-27T03:02:14.192929",
     "status": "completed"
    },
    "tags": []
   },
   "outputs": [
    {
     "data": {
      "image/png": "[encoded data removed]",
      "text/plain": [
       "<Figure size 576x576 with 2 Axes>"
      ]
     },
     "metadata": {
      "needs_background": "light"
     },
     "output_type": "display_data"
    }
   ],
   "source": [
    "def predict(model, data_loader, device):\n",
    "    model.eval()\n",
    "    probs, labels = [], []   \n",
    "    with torch.no_grad():\n",
    "        for batch_x, batch_y in data_loader:\n",
    "            batch_x = batch_x.to(device)\n",
    "            batch_y = batch_y.to(device)    \n",
    "            batch_y_pred = model(batch_x) # get predictions\n",
    "            batch_y_prob = F.softmax(input=batch_y_pred, dim=-1) #[batch_size, output_classes]\n",
    "            max_prob = batch_y_prob.argmax(axis=1, keepdim=True) #[batch_size, 1]\n",
    "            max_prob = torch.squeeze(max_prob)\n",
    "            probs.append(max_prob.detach().cpu().numpy())\n",
    "            labels.append(batch_y.to('cpu').tolist())  \n",
    "    return np.concatenate(probs, axis=0), np.concatenate(labels, axis=0)\n",
    "\n",
    "def plot(predictions, labels):\n",
    "    fig = plt.figure(figsize=(8, 8))\n",
    "    ax = fig.add_subplot(1, 1, 1)\n",
    "    cm = metrics.confusion_matrix(labels, predictions)\n",
    "    cm = metrics.ConfusionMatrixDisplay(cm, display_labels=range(10))\n",
    "    cm.plot(values_format='d', cmap='Greens', ax=ax)\n",
    "    \n",
    "\n",
    "predictions, labels = predict(model, test_dataloader, device)\n",
    "plot(predictions, labels)"
   ]
  },
  {
   "cell_type": "markdown",
   "id": "96f4f400",
   "metadata": {
    "papermill": {
     "duration": 0.051281,
     "end_time": "2022-04-27T03:02:19.822922",
     "exception": false,
     "start_time": "2022-04-27T03:02:19.771641",
     "status": "completed"
    },
    "tags": []
   },
   "source": [
    "From the confusion matrix, it can be seen that the model misclassifies digits which look similar. For example, the model misclassifies Bengali digits,\n",
    "\n",
    "* 1 --> ১  as  9 --> ৯  in 23 digit images\n",
    "* 4 --> ৪  as  8 --> ৮  in 15 digit images \n",
    "* 3 --> ৩  as  6 --> ৬  in 23 examples"
   ]
  },
  {
   "cell_type": "markdown",
   "id": "ac5bc579",
   "metadata": {
    "papermill": {
     "duration": 0.050016,
     "end_time": "2022-04-27T03:02:19.922694",
     "exception": false,
     "start_time": "2022-04-27T03:02:19.872678",
     "status": "completed"
    },
    "tags": []
   },
   "source": [
    "The dataset is fairly small, containing 15,620 data images which is not enough data to estimate the many parameters in neural networks. Training the neural network on more data samples might help the model better differentiate between the similar digits and improve performance. Another option is to use a better model architecture like Convolutional Neural Networks. \n",
    "\n",
    "As a follow-up, I will write another tutorial on how to augment the current dataset by applying different transformations. "
   ]
  },
  {
   "cell_type": "markdown",
   "id": "d2fbcb0f",
   "metadata": {
    "papermill": {
     "duration": 0.052188,
     "end_time": "2022-04-27T03:02:20.023476",
     "exception": false,
     "start_time": "2022-04-27T03:02:19.971288",
     "status": "completed"
    },
    "tags": []
   },
   "source": [
    "That's it! This tutorial detailed how to train and evaluate a baseline neural network model on a custom dataset in PyTorch. \n",
    "\n",
    "<span style=\"color:blue\">If you found this notebook helpful, please leave your feedback or any suggestions, and kindly upvote. Thanks!</span>"
   ]
  }
 ],
 "metadata": {
  "kernelspec": {
   "display_name": "Python 3",
   "language": "python",
   "name": "python3"
  },
  "language_info": {
   "codemirror_mode": {
    "name": "ipython",
    "version": 3
   },
   "file_extension": ".py",
   "mimetype": "text/x-python",
   "name": "python",
   "nbconvert_exporter": "python",
   "pygments_lexer": "ipython3",
   "version": "3.7.12"
  },
  "papermill": {
   "default_parameters": {},
   "duration": 454.867709,
   "end_time": "2022-04-27T03:02:21.191543",
   "environment_variables": {},
   "exception": null,
   "input_path": "__notebook__.ipynb",
   "output_path": "__notebook__.ipynb",
   "parameters": {},
   "start_time": "2022-04-27T02:54:46.323834",
   "version": "2.3.3"
  },
  "widgets": {
   "application/vnd.jupyter.widget-state+json": {
    "state": {
     "1d2e97c3867649d4b5418d482d93205d": {
      "model_module": "@jupyter-widgets/controls",
      "model_module_version": "1.5.0",
      "model_name": "DescriptionStyleModel",
      "state": {
       "_model_module": "@jupyter-widgets/controls",
       "_model_module_version": "1.5.0",
       "_model_name": "DescriptionStyleModel",
       "_view_count": null,
       "_view_module": "@jupyter-widgets/base",
       "_view_module_version": "1.2.0",
       "_view_name": "StyleView",
       "description_width": ""
      }
     },
     "38fef9edeeca41e49e2e60db35374c2e": {
      "model_module": "@jupyter-widgets/base",
      "model_module_version": "1.2.0",
      "model_name": "LayoutModel",
      "state": {
       "_model_module": "@jupyter-widgets/base",
       "_model_module_version": "1.2.0",
       "_model_name": "LayoutModel",
       "_view_count": null,
       "_view_module": "@jupyter-widgets/base",
       "_view_module_version": "1.2.0",
       "_view_name": "LayoutView",
       "align_content": null,
       "align_items": null,
       "align_self": null,
       "border": null,
       "bottom": null,
       "display": null,
       "flex": null,
       "flex_flow": null,
       "grid_area": null,
       "grid_auto_columns": null,
       "grid_auto_flow": null,
       "grid_auto_rows": null,
       "grid_column": null,
       "grid_gap": null,
       "grid_row": null,
       "grid_template_areas": null,
       "grid_template_columns": null,
       "grid_template_rows": null,
       "height": null,
       "justify_content": null,
       "justify_items": null,
       "left": null,
       "margin": null,
       "max_height": null,
       "max_width": null,
       "min_height": null,
       "min_width": null,
       "object_fit": null,
       "object_position": null,
       "order": null,
       "overflow": null,
       "overflow_x": null,
       "overflow_y": null,
       "padding": null,
       "right": null,
       "top": null,
       "visibility": null,
       "width": null
      }
     },
     "52aa0783d37a4023b52df562f4231ea0": {
      "model_module": "@jupyter-widgets/base",
      "model_module_version": "1.2.0",
      "model_name": "LayoutModel",
      "state": {
       "_model_module": "@jupyter-widgets/base",
       "_model_module_version": "1.2.0",
       "_model_name": "LayoutModel",
       "_view_count": null,
       "_view_module": "@jupyter-widgets/base",
       "_view_module_version": "1.2.0",
       "_view_name": "LayoutView",
       "align_content": null,
       "align_items": null,
       "align_self": null,
       "border": null,
       "bottom": null,
       "display": null,
       "flex": null,
       "flex_flow": null,
       "grid_area": null,
       "grid_auto_columns": null,
       "grid_auto_flow": null,
       "grid_auto_rows": null,
       "grid_column": null,
       "grid_gap": null,
       "grid_row": null,
       "grid_template_areas": null,
       "grid_template_columns": null,
       "grid_template_rows": null,
       "height": null,
       "justify_content": null,
       "justify_items": null,
       "left": null,
       "margin": null,
       "max_height": null,
       "max_width": null,
       "min_height": null,
       "min_width": null,
       "object_fit": null,
       "object_position": null,
       "order": null,
       "overflow": null,
       "overflow_x": null,
       "overflow_y": null,
       "padding": null,
       "right": null,
       "top": null,
       "visibility": null,
       "width": null
      }
     },
     "5ae86c4ef6c44933a64602caa175c8a1": {
      "model_module": "@jupyter-widgets/controls",
      "model_module_version": "1.5.0",
      "model_name": "HBoxModel",
      "state": {
       "_dom_classes": [],
       "_model_module": "@jupyter-widgets/controls",
       "_model_module_version": "1.5.0",
       "_model_name": "HBoxModel",
       "_view_count": null,
       "_view_module": "@jupyter-widgets/controls",
       "_view_module_version": "1.5.0",
       "_view_name": "HBoxView",
       "box_style": "",
       "children": [
        "IPY_MODEL_9b519ad785fe4907b24c6eb1c3c15e5b",
        "IPY_MODEL_784761631f3f427588c122b9bb0c426c",
        "IPY_MODEL_ea379a7b248d47958eb60ea300a9ba78"
       ],
       "layout": "IPY_MODEL_38fef9edeeca41e49e2e60db35374c2e"
      }
     },
     "784761631f3f427588c122b9bb0c426c": {
      "model_module": "@jupyter-widgets/controls",
      "model_module_version": "1.5.0",
      "model_name": "FloatProgressModel",
      "state": {
       "_dom_classes": [],
       "_model_module": "@jupyter-widgets/controls",
       "_model_module_version": "1.5.0",
       "_model_name": "FloatProgressModel",
       "_view_count": null,
       "_view_module": "@jupyter-widgets/controls",
       "_view_module_version": "1.5.0",
       "_view_name": "ProgressView",
       "bar_style": "success",
       "description": "",
       "description_tooltip": null,
       "layout": "IPY_MODEL_c5972d687a4d489c959a9a30798eaf87",
       "max": 20.0,
       "min": 0.0,
       "orientation": "horizontal",
       "style": "IPY_MODEL_b2be304c67964e83bd48a746d7eeadf6",
       "value": 20.0
      }
     },
     "8894857fab7a483cb080587e7e880bf6": {
      "model_module": "@jupyter-widgets/controls",
      "model_module_version": "1.5.0",
      "model_name": "DescriptionStyleModel",
      "state": {
       "_model_module": "@jupyter-widgets/controls",
       "_model_module_version": "1.5.0",
       "_model_name": "DescriptionStyleModel",
       "_view_count": null,
       "_view_module": "@jupyter-widgets/base",
       "_view_module_version": "1.2.0",
       "_view_name": "StyleView",
       "description_width": ""
      }
     },
     "9b519ad785fe4907b24c6eb1c3c15e5b": {
      "model_module": "@jupyter-widgets/controls",
      "model_module_version": "1.5.0",
      "model_name": "HTMLModel",
      "state": {
       "_dom_classes": [],
       "_model_module": "@jupyter-widgets/controls",
       "_model_module_version": "1.5.0",
       "_model_name": "HTMLModel",
       "_view_count": null,
       "_view_module": "@jupyter-widgets/controls",
       "_view_module_version": "1.5.0",
       "_view_name": "HTMLView",
       "description": "",
       "description_tooltip": null,
       "layout": "IPY_MODEL_52aa0783d37a4023b52df562f4231ea0",
       "placeholder": "​",
       "style": "IPY_MODEL_8894857fab7a483cb080587e7e880bf6",
       "value": "Epoch: 100%"
      }
     },
     "b2be304c67964e83bd48a746d7eeadf6": {
      "model_module": "@jupyter-widgets/controls",
      "model_module_version": "1.5.0",
      "model_name": "ProgressStyleModel",
      "state": {
       "_model_module": "@jupyter-widgets/controls",
       "_model_module_version": "1.5.0",
       "_model_name": "ProgressStyleModel",
       "_view_count": null,
       "_view_module": "@jupyter-widgets/base",
       "_view_module_version": "1.2.0",
       "_view_name": "StyleView",
       "bar_color": null,
       "description_width": ""
      }
     },
     "bac32381a25d494cbe2b745ca03f05fa": {
      "model_module": "@jupyter-widgets/base",
      "model_module_version": "1.2.0",
      "model_name": "LayoutModel",
      "state": {
       "_model_module": "@jupyter-widgets/base",
       "_model_module_version": "1.2.0",
       "_model_name": "LayoutModel",
       "_view_count": null,
       "_view_module": "@jupyter-widgets/base",
       "_view_module_version": "1.2.0",
       "_view_name": "LayoutView",
       "align_content": null,
       "align_items": null,
       "align_self": null,
       "border": null,
       "bottom": null,
       "display": null,
       "flex": null,
       "flex_flow": null,
       "grid_area": null,
       "grid_auto_columns": null,
       "grid_auto_flow": null,
       "grid_auto_rows": null,
       "grid_column": null,
       "grid_gap": null,
       "grid_row": null,
       "grid_template_areas": null,
       "grid_template_columns": null,
       "grid_template_rows": null,
       "height": null,
       "justify_content": null,
       "justify_items": null,
       "left": null,
       "margin": null,
       "max_height": null,
       "max_width": null,
       "min_height": null,
       "min_width": null,
       "object_fit": null,
       "object_position": null,
       "order": null,
       "overflow": null,
       "overflow_x": null,
       "overflow_y": null,
       "padding": null,
       "right": null,
       "top": null,
       "visibility": null,
       "width": null
      }
     },
     "c5972d687a4d489c959a9a30798eaf87": {
      "model_module": "@jupyter-widgets/base",
      "model_module_version": "1.2.0",
      "model_name": "LayoutModel",
      "state": {
       "_model_module": "@jupyter-widgets/base",
       "_model_module_version": "1.2.0",
       "_model_name": "LayoutModel",
       "_view_count": null,
       "_view_module": "@jupyter-widgets/base",
       "_view_module_version": "1.2.0",
       "_view_name": "LayoutView",
       "align_content": null,
       "align_items": null,
       "align_self": null,
       "border": null,
       "bottom": null,
       "display": null,
       "flex": null,
       "flex_flow": null,
       "grid_area": null,
       "grid_auto_columns": null,
       "grid_auto_flow": null,
       "grid_auto_rows": null,
       "grid_column": null,
       "grid_gap": null,
       "grid_row": null,
       "grid_template_areas": null,
       "grid_template_columns": null,
       "grid_template_rows": null,
       "height": null,
       "justify_content": null,
       "justify_items": null,
       "left": null,
       "margin": null,
       "max_height": null,
       "max_width": null,
       "min_height": null,
       "min_width": null,
       "object_fit": null,
       "object_position": null,
       "order": null,
       "overflow": null,
       "overflow_x": null,
       "overflow_y": null,
       "padding": null,
       "right": null,
       "top": null,
       "visibility": null,
       "width": null
      }
     },
     "ea379a7b248d47958eb60ea300a9ba78": {
      "model_module": "@jupyter-widgets/controls",
      "model_module_version": "1.5.0",
      "model_name": "HTMLModel",
      "state": {
       "_dom_classes": [],
       "_model_module": "@jupyter-widgets/controls",
       "_model_module_version": "1.5.0",
       "_model_name": "HTMLModel",
       "_view_count": null,
       "_view_module": "@jupyter-widgets/controls",
       "_view_module_version": "1.5.0",
       "_view_name": "HTMLView",
       "description": "",
       "description_tooltip": null,
       "layout": "IPY_MODEL_bac32381a25d494cbe2b745ca03f05fa",
       "placeholder": "​",
       "style": "IPY_MODEL_1d2e97c3867649d4b5418d482d93205d",
       "value": " 20/20 [06:51&lt;00:00, 21.29s/it]"
      }
     }
    },
    "version_major": 2,
    "version_minor": 0
   }
  }
 },
 "nbformat": 4,
 "nbformat_minor": 5
}
