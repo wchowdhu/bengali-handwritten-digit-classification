{
 "cells": [
  {
   "cell_type": "markdown",
   "id": "31ff0bd2",
   "metadata": {
    "papermill": {
     "duration": 0.016372,
     "end_time": "2022-05-11T18:46:48.256073",
     "exception": false,
     "start_time": "2022-05-11T18:46:48.239701",
     "status": "completed"
    },
    "tags": []
   },
   "source": [
    "#### **This notebook is a simple attempt on how to augment an image dataset. I will be using the [Bengali handwritten digit dataset](https://www.kaggle.com/datasets/wchowdhu/bengali-digits) for augmentation.**\n",
    "\n",
    "#### Let's get started!"
   ]
  },
  {
   "cell_type": "markdown",
   "id": "8b5efad6",
   "metadata": {
    "papermill": {
     "duration": 0.014807,
     "end_time": "2022-05-11T18:46:48.286302",
     "exception": false,
     "start_time": "2022-05-11T18:46:48.271495",
     "status": "completed"
    },
    "tags": []
   },
   "source": [
    "## Introduction"
   ]
  },
  {
   "cell_type": "markdown",
   "id": "a5d9bd9e",
   "metadata": {
    "papermill": {
     "duration": 0.01504,
     "end_time": "2022-05-11T18:46:48.316415",
     "exception": false,
     "start_time": "2022-05-11T18:46:48.301375",
     "status": "completed"
    },
    "tags": []
   },
   "source": [
    "The amount of labeled data available to train a machine learning model might impact the model’s performance. This is especially true in case of deep learning-based models that generally benefit from larger amounts of annotated training examples to be able to distinguish between the different output classes. However it can be an expensive and time-consuming process to manually annotate additional data. Data augmentation can be used to generate synthetic data using the original data we have.\n",
    "\n",
    "In this tutorial, I show how to use basic transformations on input digit images to increase a training dataset."
   ]
  },
  {
   "cell_type": "markdown",
   "id": "8a404687",
   "metadata": {
    "id": "OrF9lsDDIUqx",
    "papermill": {
     "duration": 0.014725,
     "end_time": "2022-05-11T18:46:48.346182",
     "exception": false,
     "start_time": "2022-05-11T18:46:48.331457",
     "status": "completed"
    },
    "tags": []
   },
   "source": [
    "## Import the Necessary Libraries"
   ]
  },
  {
   "cell_type": "code",
   "execution_count": 1,
   "id": "4c38192e",
   "metadata": {
    "execution": {
     "iopub.execute_input": "2022-05-11T18:46:48.379475Z",
     "iopub.status.busy": "2022-05-11T18:46:48.378387Z",
     "iopub.status.idle": "2022-05-11T18:46:50.206658Z",
     "shell.execute_reply": "2022-05-11T18:46:50.205645Z"
    },
    "id": "g0w5dOaPLEz2",
    "papermill": {
     "duration": 1.8478,
     "end_time": "2022-05-11T18:46:50.209235",
     "exception": false,
     "start_time": "2022-05-11T18:46:48.361435",
     "status": "completed"
    },
    "tags": []
   },
   "outputs": [],
   "source": [
    "import glob\n",
    "import os\n",
    "import pandas as pd\n",
    "import numpy as np\n",
    "import matplotlib.pyplot as plt\n",
    "import sys\n",
    "import random\n",
    "from tqdm.notebook import trange\n",
    "import skimage.io as io\n",
    "from skimage.transform import rotate, rescale, resize\n",
    "from skimage.util import random_noise\n",
    "from skimage import exposure\n",
    "from skimage.filters import gaussian\n",
    "from skimage.io import imread, imsave\n",
    "from tqdm import tqdm\n",
    "from sklearn.model_selection import train_test_split"
   ]
  },
  {
   "cell_type": "markdown",
   "id": "9c0a5cc0",
   "metadata": {
    "id": "Em9oebD_JBLr",
    "papermill": {
     "duration": 0.014905,
     "end_time": "2022-05-11T18:46:50.239482",
     "exception": false,
     "start_time": "2022-05-11T18:46:50.224577",
     "status": "completed"
    },
    "tags": []
   },
   "source": [
    "## Read the Data"
   ]
  },
  {
   "cell_type": "markdown",
   "id": "cfb174b1",
   "metadata": {
    "id": "KXx6qjRQI5Gs",
    "papermill": {
     "duration": 0.014873,
     "end_time": "2022-05-11T18:46:50.269606",
     "exception": false,
     "start_time": "2022-05-11T18:46:50.254733",
     "status": "completed"
    },
    "tags": []
   },
   "source": [
    "Read the data files from the source directory and assign corresponding target labels to the images. The image files and corresponding labels are then loaded into a pandas dataframe."
   ]
  },
  {
   "cell_type": "code",
   "execution_count": 2,
   "id": "7027c088",
   "metadata": {
    "execution": {
     "iopub.execute_input": "2022-05-11T18:46:50.302083Z",
     "iopub.status.busy": "2022-05-11T18:46:50.301192Z",
     "iopub.status.idle": "2022-05-11T18:46:52.795772Z",
     "shell.execute_reply": "2022-05-11T18:46:52.794656Z"
    },
    "id": "ctKpruhKYobs",
    "outputId": "7c244473-e3c7-4bcf-99b8-813080b4f4af",
    "papermill": {
     "duration": 2.51373,
     "end_time": "2022-05-11T18:46:52.798571",
     "exception": false,
     "start_time": "2022-05-11T18:46:50.284841",
     "status": "completed"
    },
    "tags": []
   },
   "outputs": [
    {
     "data": {
      "text/html": [
       "<div>\n",
       "<style scoped>\n",
       "    .dataframe tbody tr th:only-of-type {\n",
       "        vertical-align: middle;\n",
       "    }\n",
       "\n",
       "    .dataframe tbody tr th {\n",
       "        vertical-align: top;\n",
       "    }\n",
       "\n",
       "    .dataframe thead th {\n",
       "        text-align: right;\n",
       "    }\n",
       "</style>\n",
       "<table border=\"1\" class=\"dataframe\">\n",
       "  <thead>\n",
       "    <tr style=\"text-align: right;\">\n",
       "      <th></th>\n",
       "      <th>file</th>\n",
       "      <th>label</th>\n",
       "    </tr>\n",
       "  </thead>\n",
       "  <tbody>\n",
       "    <tr>\n",
       "      <th>0</th>\n",
       "      <td>../input/bengali-digits/bengali_digits/0/1_DHA...</td>\n",
       "      <td>0</td>\n",
       "    </tr>\n",
       "    <tr>\n",
       "      <th>1</th>\n",
       "      <td>../input/bengali-digits/bengali_digits/0/1_MAD...</td>\n",
       "      <td>0</td>\n",
       "    </tr>\n",
       "    <tr>\n",
       "      <th>2</th>\n",
       "      <td>../input/bengali-digits/bengali_digits/0/1_DHA...</td>\n",
       "      <td>0</td>\n",
       "    </tr>\n",
       "    <tr>\n",
       "      <th>3</th>\n",
       "      <td>../input/bengali-digits/bengali_digits/0/1_NOA...</td>\n",
       "      <td>0</td>\n",
       "    </tr>\n",
       "    <tr>\n",
       "      <th>4</th>\n",
       "      <td>../input/bengali-digits/bengali_digits/0/1_B.B...</td>\n",
       "      <td>0</td>\n",
       "    </tr>\n",
       "  </tbody>\n",
       "</table>\n",
       "</div>"
      ],
      "text/plain": [
       "                                                file  label\n",
       "0  ../input/bengali-digits/bengali_digits/0/1_DHA...      0\n",
       "1  ../input/bengali-digits/bengali_digits/0/1_MAD...      0\n",
       "2  ../input/bengali-digits/bengali_digits/0/1_DHA...      0\n",
       "3  ../input/bengali-digits/bengali_digits/0/1_NOA...      0\n",
       "4  ../input/bengali-digits/bengali_digits/0/1_B.B...      0"
      ]
     },
     "execution_count": 2,
     "metadata": {},
     "output_type": "execute_result"
    }
   ],
   "source": [
    "def read_data(data_dir='../input/bengali-digits/bengali_digits'):\n",
    "    ''' Read data from source directory '''\n",
    "    data = []\n",
    "    labels = []\n",
    "    for data_type in ['0', '1', '2', '3', '4', '5', '6', '7', '8', '9']:\n",
    "        digit = int(data_type[-1])\n",
    "        path = os.path.join(data_dir, data_type, '*.jpg')\n",
    "        files = glob.glob(path)\n",
    "        for f in files:\n",
    "            data.append(f)\n",
    "            labels.append(digit)\n",
    "    assert len(data) == len(labels), \"{}/{} Data size does not match labels size\".format(len(data), len(labels))\n",
    "    return data, labels\n",
    "\n",
    "\n",
    "source_dir = '../input/bengali-digits/bengali_digits'\n",
    "data, labels = read_data(source_dir)\n",
    "assert len(data) == len(labels), \"Number of image files do not match number of labels!\"\n",
    "\n",
    "df = pd.DataFrame(list(zip(data, labels)), columns =['file', 'label'])\n",
    "df.head()"
   ]
  },
  {
   "cell_type": "markdown",
   "id": "277557db",
   "metadata": {
    "id": "SNMYan0jJNo1",
    "papermill": {
     "duration": 0.015497,
     "end_time": "2022-05-11T18:46:52.830300",
     "exception": false,
     "start_time": "2022-05-11T18:46:52.814803",
     "status": "completed"
    },
    "tags": []
   },
   "source": [
    "## Load and Split the Data"
   ]
  },
  {
   "cell_type": "markdown",
   "id": "3f315a8d",
   "metadata": {
    "papermill": {
     "duration": 0.015315,
     "end_time": "2022-05-11T18:46:52.861185",
     "exception": false,
     "start_time": "2022-05-11T18:46:52.845870",
     "status": "completed"
    },
    "tags": []
   },
   "source": [
    "The dataset is split into separate training, validation, and test subsets to train and evaluate the performance of the machine learning model. Stratification is applied to preserve the original distribution of the target classes."
   ]
  },
  {
   "cell_type": "markdown",
   "id": "88543eee",
   "metadata": {
    "papermill": {
     "duration": 0.015266,
     "end_time": "2022-05-11T18:46:52.892044",
     "exception": false,
     "start_time": "2022-05-11T18:46:52.876778",
     "status": "completed"
    },
    "tags": []
   },
   "source": [
    "The following preprocessing steps are applied to the input images:\n",
    "\n",
    "- Resize all the input images to a fixed shape\n",
    "- Normalize the image tensors to have pixel values scaled down between -1 and 1 from 0 to 255 which helps with faster convergence"
   ]
  },
  {
   "cell_type": "code",
   "execution_count": 3,
   "id": "2fc13dd5",
   "metadata": {
    "execution": {
     "iopub.execute_input": "2022-05-11T18:46:52.925589Z",
     "iopub.status.busy": "2022-05-11T18:46:52.924990Z",
     "iopub.status.idle": "2022-05-11T18:48:40.504185Z",
     "shell.execute_reply": "2022-05-11T18:48:40.502881Z"
    },
    "id": "yOfZnX2MsBYd",
    "outputId": "31115d5c-fbe5-4b29-dcb2-5e7ac848b597",
    "papermill": {
     "duration": 107.598504,
     "end_time": "2022-05-11T18:48:40.506288",
     "exception": false,
     "start_time": "2022-05-11T18:46:52.907784",
     "status": "completed"
    },
    "tags": []
   },
   "outputs": [
    {
     "name": "stderr",
     "output_type": "stream",
     "text": [
      "100%|██████████| 15620/15620 [01:47<00:00, 145.72it/s]\n"
     ]
    },
    {
     "name": "stdout",
     "output_type": "stream",
     "text": [
      "original train data shape (15620, 28, 28, 3) (15620,)\n",
      "Total Training Examples in Original Data: 9996\n",
      "Total Validation Examples in Original Data: 2500\n",
      "Total Test Examples in Original Data: 3124\n"
     ]
    }
   ],
   "source": [
    "def load_data(df):\n",
    "  ''' Load and process data '''\n",
    "  all_images = []\n",
    "  for img_file in tqdm(df['file'].tolist()):\n",
    "    img = imread(img_file)\n",
    "    img = img/255.0 # Normalize\n",
    "    img = resize(img, (28, 28), anti_aliasing=True)\n",
    "    all_images.append(img)\n",
    "\n",
    "  x_np = np.stack(all_images, axis=0)\n",
    "  y_np = df['label'].values\n",
    "  print('original train data shape', x_np.shape, y_np.shape)\n",
    "  return x_np, y_np\n",
    "\n",
    "all_images, all_labels = load_data(df)\n",
    "\n",
    "all_train_features, test_features, all_train_labels, test_labels = train_test_split(all_images, all_labels, test_size=0.2, random_state=123, stratify=all_labels)\n",
    "train_features, val_features, train_labels, val_labels = train_test_split(all_train_features, all_train_labels, test_size=0.2, random_state=123, stratify=all_train_labels)\n",
    "\n",
    "print(\"Total Training Examples in Original Data: {}\".format(len(train_features)))\n",
    "print(\"Total Validation Examples in Original Data: {}\".format(len(val_features)))\n",
    "print(\"Total Test Examples in Original Data: {}\".format(len(test_features)))"
   ]
  },
  {
   "cell_type": "markdown",
   "id": "1b9d9752",
   "metadata": {
    "id": "xfg0x8vBJRS9",
    "papermill": {
     "duration": 0.380193,
     "end_time": "2022-05-11T18:48:41.264944",
     "exception": false,
     "start_time": "2022-05-11T18:48:40.884751",
     "status": "completed"
    },
    "tags": []
   },
   "source": [
    "## Apply Data Augmentation "
   ]
  },
  {
   "cell_type": "markdown",
   "id": "2714ca94",
   "metadata": {
    "papermill": {
     "duration": 0.385739,
     "end_time": "2022-05-11T18:48:42.029606",
     "exception": false,
     "start_time": "2022-05-11T18:48:41.643867",
     "status": "completed"
    },
    "tags": []
   },
   "source": [
    "Data augmentation will only be applied on the training set to increase the number of training samples. Since data consists of digit images, I apply transformations to an input image that will preserve the original digit number. Hence 4 different transformations are applied to each input image:\n",
    "\n",
    "- Blur the image\n",
    "- Rotate the image to 25 degrees retaining the digit shape\n",
    "- Apply noise to the image\n",
    "- Apply brightness to the image"
   ]
  },
  {
   "cell_type": "markdown",
   "id": "f89c7d52",
   "metadata": {
    "papermill": {
     "duration": 0.377059,
     "end_time": "2022-05-11T18:48:42.783008",
     "exception": false,
     "start_time": "2022-05-11T18:48:42.405949",
     "status": "completed"
    },
    "tags": []
   },
   "source": [
    "Python's image processing library, `skimage`, is used to generate the new transformed images."
   ]
  },
  {
   "cell_type": "code",
   "execution_count": 4,
   "id": "aebc42e1",
   "metadata": {
    "execution": {
     "iopub.execute_input": "2022-05-11T18:48:43.541840Z",
     "iopub.status.busy": "2022-05-11T18:48:43.541547Z",
     "iopub.status.idle": "2022-05-11T18:48:54.458111Z",
     "shell.execute_reply": "2022-05-11T18:48:54.457235Z"
    },
    "id": "1EGjryj2pOpw",
    "outputId": "950363da-de63-4845-91b7-67b655a40d7d",
    "papermill": {
     "duration": 11.298012,
     "end_time": "2022-05-11T18:48:54.461946",
     "exception": false,
     "start_time": "2022-05-11T18:48:43.163934",
     "status": "completed"
    },
    "tags": []
   },
   "outputs": [
    {
     "data": {
      "application/vnd.jupyter.widget-view+json": {
       "model_id": "04bdad40f2c64edb9591669aed8183da",
       "version_major": 2,
       "version_minor": 0
      },
      "text/plain": [
       "  0%|          | 0/9996 [00:00<?, ?it/s]"
      ]
     },
     "metadata": {},
     "output_type": "display_data"
    },
    {
     "name": "stderr",
     "output_type": "stream",
     "text": [
      "/opt/conda/lib/python3.7/site-packages/ipykernel_launcher.py:8: FutureWarning: `multichannel` is a deprecated argument name for `gaussian`. It will be removed in version 1.0. Please use `channel_axis` instead.\n",
      "  \n"
     ]
    },
    {
     "name": "stdout",
     "output_type": "stream",
     "text": [
      "Total Training Examples after Augmentation: 49980\n"
     ]
    }
   ],
   "source": [
    "def augment_data(train_features, train_labels):\n",
    "  ''' Augment data by applying different transformations '''\n",
    "  augmented_train_features, augmented_train_labels = [], []\n",
    "  train_size = len(train_features)\n",
    "  for i in trange(train_size):\n",
    "    image = train_features[i]\n",
    "    augmented_train_features.append(image) #original image\n",
    "    augmented_train_features.append(gaussian(image, sigma=1, multichannel=True)) #blurred image\n",
    "    augmented_train_features.append(rotate(image, angle=25, mode='wrap')) #rotated image\n",
    "    augmented_train_features.append(random_noise(image, var=0.2**2)) #noisy image\n",
    "    augmented_train_features.append(exposure.adjust_gamma(image, 2)) #dark image\n",
    "    for j in range(5):\n",
    "      augmented_train_labels.append(train_labels[i])\n",
    "  return np.stack(augmented_train_features, axis=0), augmented_train_labels\n",
    "\n",
    "\n",
    "\n",
    "augmented_train_features, augmented_train_labels = augment_data(train_features, train_labels)\n",
    "print(\"Total Training Examples after Augmentation: {}\".format(len(augmented_train_features)))"
   ]
  },
  {
   "cell_type": "markdown",
   "id": "921cd4a3",
   "metadata": {
    "id": "WqJI0opOJopR",
    "papermill": {
     "duration": 0.378823,
     "end_time": "2022-05-11T18:48:55.222796",
     "exception": false,
     "start_time": "2022-05-11T18:48:54.843973",
     "status": "completed"
    },
    "tags": []
   },
   "source": [
    "The training set increased from 9,996 examples to 49,980 images. The augmented training dataset has 49,980 images containing different transformations of the original training images."
   ]
  },
  {
   "cell_type": "markdown",
   "id": "536a615a",
   "metadata": {
    "papermill": {
     "duration": 0.379821,
     "end_time": "2022-05-11T18:48:55.983492",
     "exception": false,
     "start_time": "2022-05-11T18:48:55.603671",
     "status": "completed"
    },
    "tags": []
   },
   "source": [
    "## Visualize the Applied Transformations to an Input Image"
   ]
  },
  {
   "cell_type": "code",
   "execution_count": 5,
   "id": "06b428db",
   "metadata": {
    "execution": {
     "iopub.execute_input": "2022-05-11T18:48:56.745114Z",
     "iopub.status.busy": "2022-05-11T18:48:56.744826Z",
     "iopub.status.idle": "2022-05-11T18:48:57.058491Z",
     "shell.execute_reply": "2022-05-11T18:48:57.057585Z"
    },
    "id": "03ct1rM3RddY",
    "outputId": "bc0184ef-19f8-4e35-b325-b5a3d427d101",
    "papermill": {
     "duration": 0.698662,
     "end_time": "2022-05-11T18:48:57.060630",
     "exception": false,
     "start_time": "2022-05-11T18:48:56.361968",
     "status": "completed"
    },
    "tags": []
   },
   "outputs": [
    {
     "data": {
      "image/png": "[encoded data removed]",
      "text/plain": [
       "<Figure size 1800x1800 with 5 Axes>"
      ]
     },
     "metadata": {
      "needs_background": "light"
     },
     "output_type": "display_data"
    }
   ],
   "source": [
    "fig, ax = plt.subplots(nrows=1, ncols=5, figsize=(25, 25))\n",
    "for i in range(5):\n",
    "    ax[i].imshow(augmented_train_features[i])\n",
    "    ax[i].axis('off')"
   ]
  },
  {
   "cell_type": "markdown",
   "id": "aa9a2bb0",
   "metadata": {
    "papermill": {
     "duration": 0.380139,
     "end_time": "2022-05-11T18:48:57.821766",
     "exception": false,
     "start_time": "2022-05-11T18:48:57.441627",
     "status": "completed"
    },
    "tags": []
   },
   "source": [
    "That's it! This is a small tutorial for beginners to get started on data augmentation for digit images.\n",
    "\n",
    "For a tutorial on implementing a classification model for Bengali handwritten digit recognition, you can check this [notebook](https://www.kaggle.com/code/wchowdhu/tutorial-on-bengali-digit-classification).\n",
    "\n",
    "\n",
    "\n",
    "<span style=\"color:blue\">If you found this notebook helpful, please leave your feedback or any suggestions, and kindly upvote. Thanks!</span>"
   ]
  }
 ],
 "metadata": {
  "kernelspec": {
   "display_name": "Python 3",
   "language": "python",
   "name": "python3"
  },
  "language_info": {
   "codemirror_mode": {
    "name": "ipython",
    "version": 3
   },
   "file_extension": ".py",
   "mimetype": "text/x-python",
   "name": "python",
   "nbconvert_exporter": "python",
   "pygments_lexer": "ipython3",
   "version": "3.7.12"
  },
  "papermill": {
   "default_parameters": {},
   "duration": 140.81884,
   "end_time": "2022-05-11T18:48:59.030198",
   "environment_variables": {},
   "exception": null,
   "input_path": "__notebook__.ipynb",
   "output_path": "__notebook__.ipynb",
   "parameters": {},
   "start_time": "2022-05-11T18:46:38.211358",
   "version": "2.3.4"
  },
  "widgets": {
   "application/vnd.jupyter.widget-state+json": {
    "state": {
     "04bdad40f2c64edb9591669aed8183da": {
      "model_module": "@jupyter-widgets/controls",
      "model_module_version": "1.5.0",
      "model_name": "HBoxModel",
      "state": {
       "_dom_classes": [],
       "_model_module": "@jupyter-widgets/controls",
       "_model_module_version": "1.5.0",
       "_model_name": "HBoxModel",
       "_view_count": null,
       "_view_module": "@jupyter-widgets/controls",
       "_view_module_version": "1.5.0",
       "_view_name": "HBoxView",
       "box_style": "",
       "children": [
        "IPY_MODEL_61e0d8b1812f44269b4800d1e9844222",
        "IPY_MODEL_8488e2e0defc4877beb07fa63df2e686",
        "IPY_MODEL_c7c1a1be4d7a47fbb4b025460bf09c69"
       ],
       "layout": "IPY_MODEL_60c23741cee94154acca5c13d73c0403"
      }
     },
     "0b64889b72c54f4eb390f3ce3a2c4b13": {
      "model_module": "@jupyter-widgets/controls",
      "model_module_version": "1.5.0",
      "model_name": "ProgressStyleModel",
      "state": {
       "_model_module": "@jupyter-widgets/controls",
       "_model_module_version": "1.5.0",
       "_model_name": "ProgressStyleModel",
       "_view_count": null,
       "_view_module": "@jupyter-widgets/base",
       "_view_module_version": "1.2.0",
       "_view_name": "StyleView",
       "bar_color": null,
       "description_width": ""
      }
     },
     "1f4dd331ec1949fe8e99788d9b1a0c61": {
      "model_module": "@jupyter-widgets/base",
      "model_module_version": "1.2.0",
      "model_name": "LayoutModel",
      "state": {
       "_model_module": "@jupyter-widgets/base",
       "_model_module_version": "1.2.0",
       "_model_name": "LayoutModel",
       "_view_count": null,
       "_view_module": "@jupyter-widgets/base",
       "_view_module_version": "1.2.0",
       "_view_name": "LayoutView",
       "align_content": null,
       "align_items": null,
       "align_self": null,
       "border": null,
       "bottom": null,
       "display": null,
       "flex": null,
       "flex_flow": null,
       "grid_area": null,
       "grid_auto_columns": null,
       "grid_auto_flow": null,
       "grid_auto_rows": null,
       "grid_column": null,
       "grid_gap": null,
       "grid_row": null,
       "grid_template_areas": null,
       "grid_template_columns": null,
       "grid_template_rows": null,
       "height": null,
       "justify_content": null,
       "justify_items": null,
       "left": null,
       "margin": null,
       "max_height": null,
       "max_width": null,
       "min_height": null,
       "min_width": null,
       "object_fit": null,
       "object_position": null,
       "order": null,
       "overflow": null,
       "overflow_x": null,
       "overflow_y": null,
       "padding": null,
       "right": null,
       "top": null,
       "visibility": null,
       "width": null
      }
     },
     "5cdeaa17de0e490fb0e5dce0061a669a": {
      "model_module": "@jupyter-widgets/base",
      "model_module_version": "1.2.0",
      "model_name": "LayoutModel",
      "state": {
       "_model_module": "@jupyter-widgets/base",
       "_model_module_version": "1.2.0",
       "_model_name": "LayoutModel",
       "_view_count": null,
       "_view_module": "@jupyter-widgets/base",
       "_view_module_version": "1.2.0",
       "_view_name": "LayoutView",
       "align_content": null,
       "align_items": null,
       "align_self": null,
       "border": null,
       "bottom": null,
       "display": null,
       "flex": null,
       "flex_flow": null,
       "grid_area": null,
       "grid_auto_columns": null,
       "grid_auto_flow": null,
       "grid_auto_rows": null,
       "grid_column": null,
       "grid_gap": null,
       "grid_row": null,
       "grid_template_areas": null,
       "grid_template_columns": null,
       "grid_template_rows": null,
       "height": null,
       "justify_content": null,
       "justify_items": null,
       "left": null,
       "margin": null,
       "max_height": null,
       "max_width": null,
       "min_height": null,
       "min_width": null,
       "object_fit": null,
       "object_position": null,
       "order": null,
       "overflow": null,
       "overflow_x": null,
       "overflow_y": null,
       "padding": null,
       "right": null,
       "top": null,
       "visibility": null,
       "width": null
      }
     },
     "60c23741cee94154acca5c13d73c0403": {
      "model_module": "@jupyter-widgets/base",
      "model_module_version": "1.2.0",
      "model_name": "LayoutModel",
      "state": {
       "_model_module": "@jupyter-widgets/base",
       "_model_module_version": "1.2.0",
       "_model_name": "LayoutModel",
       "_view_count": null,
       "_view_module": "@jupyter-widgets/base",
       "_view_module_version": "1.2.0",
       "_view_name": "LayoutView",
       "align_content": null,
       "align_items": null,
       "align_self": null,
       "border": null,
       "bottom": null,
       "display": null,
       "flex": null,
       "flex_flow": null,
       "grid_area": null,
       "grid_auto_columns": null,
       "grid_auto_flow": null,
       "grid_auto_rows": null,
       "grid_column": null,
       "grid_gap": null,
       "grid_row": null,
       "grid_template_areas": null,
       "grid_template_columns": null,
       "grid_template_rows": null,
       "height": null,
       "justify_content": null,
       "justify_items": null,
       "left": null,
       "margin": null,
       "max_height": null,
       "max_width": null,
       "min_height": null,
       "min_width": null,
       "object_fit": null,
       "object_position": null,
       "order": null,
       "overflow": null,
       "overflow_x": null,
       "overflow_y": null,
       "padding": null,
       "right": null,
       "top": null,
       "visibility": null,
       "width": null
      }
     },
     "61e0d8b1812f44269b4800d1e9844222": {
      "model_module": "@jupyter-widgets/controls",
      "model_module_version": "1.5.0",
      "model_name": "HTMLModel",
      "state": {
       "_dom_classes": [],
       "_model_module": "@jupyter-widgets/controls",
       "_model_module_version": "1.5.0",
       "_model_name": "HTMLModel",
       "_view_count": null,
       "_view_module": "@jupyter-widgets/controls",
       "_view_module_version": "1.5.0",
       "_view_name": "HTMLView",
       "description": "",
       "description_tooltip": null,
       "layout": "IPY_MODEL_1f4dd331ec1949fe8e99788d9b1a0c61",
       "placeholder": "​",
       "style": "IPY_MODEL_ed7ba45f28354807a25c7e262405f94c",
       "value": "100%"
      }
     },
     "8488e2e0defc4877beb07fa63df2e686": {
      "model_module": "@jupyter-widgets/controls",
      "model_module_version": "1.5.0",
      "model_name": "FloatProgressModel",
      "state": {
       "_dom_classes": [],
       "_model_module": "@jupyter-widgets/controls",
       "_model_module_version": "1.5.0",
       "_model_name": "FloatProgressModel",
       "_view_count": null,
       "_view_module": "@jupyter-widgets/controls",
       "_view_module_version": "1.5.0",
       "_view_name": "ProgressView",
       "bar_style": "success",
       "description": "",
       "description_tooltip": null,
       "layout": "IPY_MODEL_c2397129905b4531a07016b7a7c232f4",
       "max": 9996.0,
       "min": 0.0,
       "orientation": "horizontal",
       "style": "IPY_MODEL_0b64889b72c54f4eb390f3ce3a2c4b13",
       "value": 9996.0
      }
     },
     "a375377fb828439d9cc0bf1f8aef8cfb": {
      "model_module": "@jupyter-widgets/controls",
      "model_module_version": "1.5.0",
      "model_name": "DescriptionStyleModel",
      "state": {
       "_model_module": "@jupyter-widgets/controls",
       "_model_module_version": "1.5.0",
       "_model_name": "DescriptionStyleModel",
       "_view_count": null,
       "_view_module": "@jupyter-widgets/base",
       "_view_module_version": "1.2.0",
       "_view_name": "StyleView",
       "description_width": ""
      }
     },
     "c2397129905b4531a07016b7a7c232f4": {
      "model_module": "@jupyter-widgets/base",
      "model_module_version": "1.2.0",
      "model_name": "LayoutModel",
      "state": {
       "_model_module": "@jupyter-widgets/base",
       "_model_module_version": "1.2.0",
       "_model_name": "LayoutModel",
       "_view_count": null,
       "_view_module": "@jupyter-widgets/base",
       "_view_module_version": "1.2.0",
       "_view_name": "LayoutView",
       "align_content": null,
       "align_items": null,
       "align_self": null,
       "border": null,
       "bottom": null,
       "display": null,
       "flex": null,
       "flex_flow": null,
       "grid_area": null,
       "grid_auto_columns": null,
       "grid_auto_flow": null,
       "grid_auto_rows": null,
       "grid_column": null,
       "grid_gap": null,
       "grid_row": null,
       "grid_template_areas": null,
       "grid_template_columns": null,
       "grid_template_rows": null,
       "height": null,
       "justify_content": null,
       "justify_items": null,
       "left": null,
       "margin": null,
       "max_height": null,
       "max_width": null,
       "min_height": null,
       "min_width": null,
       "object_fit": null,
       "object_position": null,
       "order": null,
       "overflow": null,
       "overflow_x": null,
       "overflow_y": null,
       "padding": null,
       "right": null,
       "top": null,
       "visibility": null,
       "width": null
      }
     },
     "c7c1a1be4d7a47fbb4b025460bf09c69": {
      "model_module": "@jupyter-widgets/controls",
      "model_module_version": "1.5.0",
      "model_name": "HTMLModel",
      "state": {
       "_dom_classes": [],
       "_model_module": "@jupyter-widgets/controls",
       "_model_module_version": "1.5.0",
       "_model_name": "HTMLModel",
       "_view_count": null,
       "_view_module": "@jupyter-widgets/controls",
       "_view_module_version": "1.5.0",
       "_view_name": "HTMLView",
       "description": "",
       "description_tooltip": null,
       "layout": "IPY_MODEL_5cdeaa17de0e490fb0e5dce0061a669a",
       "placeholder": "​",
       "style": "IPY_MODEL_a375377fb828439d9cc0bf1f8aef8cfb",
       "value": " 9996/9996 [00:10&lt;00:00, 955.81it/s]"
      }
     },
     "ed7ba45f28354807a25c7e262405f94c": {
      "model_module": "@jupyter-widgets/controls",
      "model_module_version": "1.5.0",
      "model_name": "DescriptionStyleModel",
      "state": {
       "_model_module": "@jupyter-widgets/controls",
       "_model_module_version": "1.5.0",
       "_model_name": "DescriptionStyleModel",
       "_view_count": null,
       "_view_module": "@jupyter-widgets/base",
       "_view_module_version": "1.2.0",
       "_view_name": "StyleView",
       "description_width": ""
      }
     }
    },
    "version_major": 2,
    "version_minor": 0
   }
  }
 },
 "nbformat": 4,
 "nbformat_minor": 5
}
