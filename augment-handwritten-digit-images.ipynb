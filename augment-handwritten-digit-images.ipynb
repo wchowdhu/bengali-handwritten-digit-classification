{
 "cells": [
  {
   "cell_type": "markdown",
   "id": "96e320f7",
   "metadata": {
    "papermill": {
     "duration": 0.018229,
     "end_time": "2022-05-11T12:31:00.773681",
     "exception": false,
     "start_time": "2022-05-11T12:31:00.755452",
     "status": "completed"
    },
    "tags": []
   },
   "source": [
    "#### **This notebook is a simple attempt on how to augment an image dataset. I will be using a new dataset, the [Bengali handwritten digit dataset](https://www.kaggle.com/datasets/wchowdhu/bengali-digits) for augmentation.**\n",
    "\n",
    "#### Please feel free to use the new Bengali dataset and this tutorial for experimentation :)\n",
    "\n",
    "#### Let's get started!"
   ]
  },
  {
   "cell_type": "markdown",
   "id": "a3731637",
   "metadata": {
    "papermill": {
     "duration": 0.015672,
     "end_time": "2022-05-11T12:31:00.805202",
     "exception": false,
     "start_time": "2022-05-11T12:31:00.789530",
     "status": "completed"
    },
    "tags": []
   },
   "source": [
    "## Introduction"
   ]
  },
  {
   "cell_type": "markdown",
   "id": "590da16c",
   "metadata": {
    "papermill": {
     "duration": 0.01534,
     "end_time": "2022-05-11T12:31:00.836905",
     "exception": false,
     "start_time": "2022-05-11T12:31:00.821565",
     "status": "completed"
    },
    "tags": []
   },
   "source": [
    "The amount of labeled data available to train a machine learning model might impact the model’s performance. This is especially true in case of deep learning-based models that generally benefit from larger amounts of annotated training examples to be able to distinguish between the different output classes. However it can be an expensive and time-consuming process to manually annotate additional data. Data augmentation can be used to generate synthetic data using the original data we have.\n",
    "\n",
    "In this tutorial, I show how to use basic transformations to input digit images to increase a training dataset."
   ]
  },
  {
   "cell_type": "markdown",
   "id": "35fe4210",
   "metadata": {
    "id": "OrF9lsDDIUqx",
    "papermill": {
     "duration": 0.015284,
     "end_time": "2022-05-11T12:31:00.868093",
     "exception": false,
     "start_time": "2022-05-11T12:31:00.852809",
     "status": "completed"
    },
    "tags": []
   },
   "source": [
    "## Import the Necessary Libraries"
   ]
  },
  {
   "cell_type": "code",
   "execution_count": 1,
   "id": "5d533804",
   "metadata": {
    "execution": {
     "iopub.execute_input": "2022-05-11T12:31:00.901140Z",
     "iopub.status.busy": "2022-05-11T12:31:00.900647Z",
     "iopub.status.idle": "2022-05-11T12:31:02.790692Z",
     "shell.execute_reply": "2022-05-11T12:31:02.789896Z"
    },
    "id": "g0w5dOaPLEz2",
    "papermill": {
     "duration": 1.909829,
     "end_time": "2022-05-11T12:31:02.793419",
     "exception": false,
     "start_time": "2022-05-11T12:31:00.883590",
     "status": "completed"
    },
    "tags": []
   },
   "outputs": [],
   "source": [
    "import glob\n",
    "import os\n",
    "import pandas as pd\n",
    "import numpy as np\n",
    "import matplotlib.pyplot as plt\n",
    "import sys\n",
    "import random\n",
    "from tqdm.notebook import trange\n",
    "import skimage.io as io\n",
    "from skimage.transform import rotate, rescale, resize\n",
    "from skimage.util import random_noise\n",
    "from skimage import exposure\n",
    "from skimage.filters import gaussian\n",
    "from skimage.io import imread, imsave\n",
    "from tqdm import tqdm\n",
    "from sklearn.model_selection import train_test_split"
   ]
  },
  {
   "cell_type": "markdown",
   "id": "c2b855f0",
   "metadata": {
    "id": "Em9oebD_JBLr",
    "papermill": {
     "duration": 0.015929,
     "end_time": "2022-05-11T12:31:02.825009",
     "exception": false,
     "start_time": "2022-05-11T12:31:02.809080",
     "status": "completed"
    },
    "tags": []
   },
   "source": [
    "## Read the Data"
   ]
  },
  {
   "cell_type": "markdown",
   "id": "53b6b3dd",
   "metadata": {
    "id": "KXx6qjRQI5Gs",
    "papermill": {
     "duration": 0.015984,
     "end_time": "2022-05-11T12:31:02.856892",
     "exception": false,
     "start_time": "2022-05-11T12:31:02.840908",
     "status": "completed"
    },
    "tags": []
   },
   "source": [
    "Read the data files from the source directory and assign corresponding target labels to the images. The image files and corresponding labels are then loaded into a pandas dataframe."
   ]
  },
  {
   "cell_type": "code",
   "execution_count": 2,
   "id": "512d7306",
   "metadata": {
    "execution": {
     "iopub.execute_input": "2022-05-11T12:31:02.889012Z",
     "iopub.status.busy": "2022-05-11T12:31:02.888690Z",
     "iopub.status.idle": "2022-05-11T12:31:03.995702Z",
     "shell.execute_reply": "2022-05-11T12:31:03.994608Z"
    },
    "id": "ctKpruhKYobs",
    "outputId": "7c244473-e3c7-4bcf-99b8-813080b4f4af",
    "papermill": {
     "duration": 1.126067,
     "end_time": "2022-05-11T12:31:03.998290",
     "exception": false,
     "start_time": "2022-05-11T12:31:02.872223",
     "status": "completed"
    },
    "tags": []
   },
   "outputs": [
    {
     "data": {
      "text/html": [
       "<div>\n",
       "<style scoped>\n",
       "    .dataframe tbody tr th:only-of-type {\n",
       "        vertical-align: middle;\n",
       "    }\n",
       "\n",
       "    .dataframe tbody tr th {\n",
       "        vertical-align: top;\n",
       "    }\n",
       "\n",
       "    .dataframe thead th {\n",
       "        text-align: right;\n",
       "    }\n",
       "</style>\n",
       "<table border=\"1\" class=\"dataframe\">\n",
       "  <thead>\n",
       "    <tr style=\"text-align: right;\">\n",
       "      <th></th>\n",
       "      <th>file</th>\n",
       "      <th>label</th>\n",
       "    </tr>\n",
       "  </thead>\n",
       "  <tbody>\n",
       "    <tr>\n",
       "      <th>0</th>\n",
       "      <td>../input/bengali-digits/bengali_digits/0/1_DHA...</td>\n",
       "      <td>0</td>\n",
       "    </tr>\n",
       "    <tr>\n",
       "      <th>1</th>\n",
       "      <td>../input/bengali-digits/bengali_digits/0/1_MAD...</td>\n",
       "      <td>0</td>\n",
       "    </tr>\n",
       "    <tr>\n",
       "      <th>2</th>\n",
       "      <td>../input/bengali-digits/bengali_digits/0/1_DHA...</td>\n",
       "      <td>0</td>\n",
       "    </tr>\n",
       "    <tr>\n",
       "      <th>3</th>\n",
       "      <td>../input/bengali-digits/bengali_digits/0/1_NOA...</td>\n",
       "      <td>0</td>\n",
       "    </tr>\n",
       "    <tr>\n",
       "      <th>4</th>\n",
       "      <td>../input/bengali-digits/bengali_digits/0/1_B.B...</td>\n",
       "      <td>0</td>\n",
       "    </tr>\n",
       "  </tbody>\n",
       "</table>\n",
       "</div>"
      ],
      "text/plain": [
       "                                                file  label\n",
       "0  ../input/bengali-digits/bengali_digits/0/1_DHA...      0\n",
       "1  ../input/bengali-digits/bengali_digits/0/1_MAD...      0\n",
       "2  ../input/bengali-digits/bengali_digits/0/1_DHA...      0\n",
       "3  ../input/bengali-digits/bengali_digits/0/1_NOA...      0\n",
       "4  ../input/bengali-digits/bengali_digits/0/1_B.B...      0"
      ]
     },
     "execution_count": 2,
     "metadata": {},
     "output_type": "execute_result"
    }
   ],
   "source": [
    "def read_data(data_dir='../input/bengali-digits/bengali_digits'):\n",
    "    ''' Read data from source directory '''\n",
    "    data = []\n",
    "    labels = []\n",
    "    for data_type in ['0', '1', '2', '3', '4', '5', '6', '7', '8', '9']:\n",
    "        digit = int(data_type[-1])\n",
    "        path = os.path.join(data_dir, data_type, '*.jpg')\n",
    "        files = glob.glob(path)\n",
    "        for f in files:\n",
    "            data.append(f)\n",
    "            labels.append(digit)\n",
    "    assert len(data) == len(labels), \"{}/{} Data size does not match labels size\".format(len(data), len(labels))\n",
    "    return data, labels\n",
    "\n",
    "\n",
    "source_dir = '../input/bengali-digits/bengali_digits'\n",
    "data, labels = read_data(source_dir)\n",
    "assert len(data) == len(labels), \"Number of image files do not match number of labels!\"\n",
    "\n",
    "df = pd.DataFrame(list(zip(data, labels)), columns =['file', 'label'])\n",
    "df.head()"
   ]
  },
  {
   "cell_type": "markdown",
   "id": "b3787b9d",
   "metadata": {
    "id": "SNMYan0jJNo1",
    "papermill": {
     "duration": 0.017111,
     "end_time": "2022-05-11T12:31:04.032993",
     "exception": false,
     "start_time": "2022-05-11T12:31:04.015882",
     "status": "completed"
    },
    "tags": []
   },
   "source": [
    "## Load and Split the Data"
   ]
  },
  {
   "cell_type": "markdown",
   "id": "43365279",
   "metadata": {
    "papermill": {
     "duration": 0.016063,
     "end_time": "2022-05-11T12:31:04.065223",
     "exception": false,
     "start_time": "2022-05-11T12:31:04.049160",
     "status": "completed"
    },
    "tags": []
   },
   "source": [
    "The dataset is split into separate training, validation, and test subsets to train and evaluate the performance of the machine learning model. Stratification is applied to preserve the original distribution of the target classes."
   ]
  },
  {
   "cell_type": "markdown",
   "id": "f9210aec",
   "metadata": {
    "papermill": {
     "duration": 0.015994,
     "end_time": "2022-05-11T12:31:04.097476",
     "exception": false,
     "start_time": "2022-05-11T12:31:04.081482",
     "status": "completed"
    },
    "tags": []
   },
   "source": [
    "The following preprocessing steps are applied to the input images:\n",
    "\n",
    "- Resize all the input images to a fixed shape\n",
    "- Normalize the image tensors to have pixel values scaled down between -1 and 1 from 0 to 255 which helps with faster convergence"
   ]
  },
  {
   "cell_type": "code",
   "execution_count": 3,
   "id": "cfec0320",
   "metadata": {
    "execution": {
     "iopub.execute_input": "2022-05-11T12:31:04.133946Z",
     "iopub.status.busy": "2022-05-11T12:31:04.132927Z",
     "iopub.status.idle": "2022-05-11T12:32:32.793349Z",
     "shell.execute_reply": "2022-05-11T12:32:32.792303Z"
    },
    "id": "yOfZnX2MsBYd",
    "outputId": "31115d5c-fbe5-4b29-dcb2-5e7ac848b597",
    "papermill": {
     "duration": 88.680373,
     "end_time": "2022-05-11T12:32:32.795818",
     "exception": false,
     "start_time": "2022-05-11T12:31:04.115445",
     "status": "completed"
    },
    "tags": []
   },
   "outputs": [
    {
     "name": "stderr",
     "output_type": "stream",
     "text": [
      "100%|██████████| 15620/15620 [01:28<00:00, 176.95it/s]\n"
     ]
    },
    {
     "name": "stdout",
     "output_type": "stream",
     "text": [
      "original train data shape (15620, 28, 28, 3) (15620,)\n",
      "Total Training Examples in Original Data: 9996\n",
      "Total Validation Examples in Original Data: 2500\n",
      "Total Test Examples in Original Data: 3124\n"
     ]
    }
   ],
   "source": [
    "def load_data(df):\n",
    "  ''' Load and process data '''\n",
    "  all_images = []\n",
    "  for img_file in tqdm(df['file'].tolist()):\n",
    "    img = imread(img_file)\n",
    "    img = img/255.0 # Normalize\n",
    "    img = resize(img, (28, 28), anti_aliasing=True)\n",
    "    all_images.append(img)\n",
    "\n",
    "  x_np = np.stack(all_images, axis=0)\n",
    "  y_np = df['label'].values\n",
    "  print('original train data shape', x_np.shape, y_np.shape)\n",
    "  return x_np, y_np\n",
    "\n",
    "all_images, all_labels = load_data(df)\n",
    "\n",
    "all_train_features, test_features, all_train_labels, test_labels = train_test_split(all_images, all_labels, test_size=0.2, random_state=123, stratify=all_labels)\n",
    "train_features, val_features, train_labels, val_labels = train_test_split(all_train_features, all_train_labels, test_size=0.2, random_state=123, stratify=all_train_labels)\n",
    "\n",
    "print(\"Total Training Examples in Original Data: {}\".format(len(train_features)))\n",
    "print(\"Total Validation Examples in Original Data: {}\".format(len(val_features)))\n",
    "print(\"Total Test Examples in Original Data: {}\".format(len(test_features)))"
   ]
  },
  {
   "cell_type": "markdown",
   "id": "3ccbbb49",
   "metadata": {
    "id": "xfg0x8vBJRS9",
    "papermill": {
     "duration": 0.32276,
     "end_time": "2022-05-11T12:32:33.445455",
     "exception": false,
     "start_time": "2022-05-11T12:32:33.122695",
     "status": "completed"
    },
    "tags": []
   },
   "source": [
    "## Apply Data Augmentation "
   ]
  },
  {
   "cell_type": "markdown",
   "id": "e35795be",
   "metadata": {
    "papermill": {
     "duration": 0.326021,
     "end_time": "2022-05-11T12:32:34.089165",
     "exception": false,
     "start_time": "2022-05-11T12:32:33.763144",
     "status": "completed"
    },
    "tags": []
   },
   "source": [
    "Data augmentation will only be applied on the training set to increase the number of training samples. Since data consists of digit images, I apply transformations to an input image that will preserve the original digit number. Hence 4 different transformations are applied to each input image:\n",
    "\n",
    "- Blur the image\n",
    "- Rotate the image to 25 degrees retaining the digit shape\n",
    "- Apply noise to the image\n",
    "- Apply brightness to the image"
   ]
  },
  {
   "cell_type": "markdown",
   "id": "7426d28a",
   "metadata": {
    "papermill": {
     "duration": 0.317929,
     "end_time": "2022-05-11T12:32:34.729395",
     "exception": false,
     "start_time": "2022-05-11T12:32:34.411466",
     "status": "completed"
    },
    "tags": []
   },
   "source": [
    "Python's image processing library, `skimage`, is used to generate the new transformed images."
   ]
  },
  {
   "cell_type": "code",
   "execution_count": 4,
   "id": "bf200432",
   "metadata": {
    "execution": {
     "iopub.execute_input": "2022-05-11T12:32:35.376048Z",
     "iopub.status.busy": "2022-05-11T12:32:35.375265Z",
     "iopub.status.idle": "2022-05-11T12:32:46.396279Z",
     "shell.execute_reply": "2022-05-11T12:32:46.395389Z"
    },
    "id": "1EGjryj2pOpw",
    "outputId": "950363da-de63-4845-91b7-67b655a40d7d",
    "papermill": {
     "duration": 11.344621,
     "end_time": "2022-05-11T12:32:46.398689",
     "exception": false,
     "start_time": "2022-05-11T12:32:35.054068",
     "status": "completed"
    },
    "tags": []
   },
   "outputs": [
    {
     "data": {
      "application/vnd.jupyter.widget-view+json": {
       "model_id": "b73e4035705840568ee6b6d78e31ab24",
       "version_major": 2,
       "version_minor": 0
      },
      "text/plain": [
       "  0%|          | 0/9996 [00:00<?, ?it/s]"
      ]
     },
     "metadata": {},
     "output_type": "display_data"
    },
    {
     "name": "stderr",
     "output_type": "stream",
     "text": [
      "/opt/conda/lib/python3.7/site-packages/ipykernel_launcher.py:8: FutureWarning: `multichannel` is a deprecated argument name for `gaussian`. It will be removed in version 1.0. Please use `channel_axis` instead.\n",
      "  \n"
     ]
    },
    {
     "name": "stdout",
     "output_type": "stream",
     "text": [
      "Total Training Examples after Augmentation: 49980\n"
     ]
    }
   ],
   "source": [
    "def augment_data(train_features, train_labels):\n",
    "  ''' Augment data by applying different transformations '''\n",
    "  augmented_train_features, augmented_train_labels = [], []\n",
    "  train_size = len(train_features)\n",
    "  for i in trange(train_size):\n",
    "    image = train_features[i]\n",
    "    augmented_train_features.append(image) #original image\n",
    "    augmented_train_features.append(gaussian(image, sigma=1, multichannel=True)) #blurred image\n",
    "    augmented_train_features.append(rotate(image, angle=25, mode='wrap')) #rotated image\n",
    "    augmented_train_features.append(random_noise(image, var=0.2**2)) #noisy image\n",
    "    augmented_train_features.append(exposure.adjust_gamma(image, 2)) #dark image\n",
    "    for j in range(5):\n",
    "      augmented_train_labels.append(train_labels[i])\n",
    "  return np.stack(augmented_train_features, axis=0), augmented_train_labels\n",
    "\n",
    "\n",
    "\n",
    "augmented_train_features, augmented_train_labels = augment_data(train_features, train_labels)\n",
    "print(\"Total Training Examples after Augmentation: {}\".format(len(augmented_train_features)))"
   ]
  },
  {
   "cell_type": "markdown",
   "id": "a170ff80",
   "metadata": {
    "id": "WqJI0opOJopR",
    "papermill": {
     "duration": 0.333506,
     "end_time": "2022-05-11T12:32:47.057016",
     "exception": false,
     "start_time": "2022-05-11T12:32:46.723510",
     "status": "completed"
    },
    "tags": []
   },
   "source": [
    "The training set increased from 9,996 examples to 49,980 images. The augmented training dataset has 49,980 images containing different transformations of the original training images."
   ]
  },
  {
   "cell_type": "markdown",
   "id": "cafea95c",
   "metadata": {
    "papermill": {
     "duration": 0.31917,
     "end_time": "2022-05-11T12:32:47.702353",
     "exception": false,
     "start_time": "2022-05-11T12:32:47.383183",
     "status": "completed"
    },
    "tags": []
   },
   "source": [
    "## Visualize the Applied Transformations to an Input Image"
   ]
  },
  {
   "cell_type": "code",
   "execution_count": 5,
   "id": "1c595784",
   "metadata": {
    "execution": {
     "iopub.execute_input": "2022-05-11T12:32:48.347285Z",
     "iopub.status.busy": "2022-05-11T12:32:48.346997Z",
     "iopub.status.idle": "2022-05-11T12:32:48.670384Z",
     "shell.execute_reply": "2022-05-11T12:32:48.669545Z"
    },
    "id": "03ct1rM3RddY",
    "outputId": "bc0184ef-19f8-4e35-b325-b5a3d427d101",
    "papermill": {
     "duration": 0.648792,
     "end_time": "2022-05-11T12:32:48.672724",
     "exception": false,
     "start_time": "2022-05-11T12:32:48.023932",
     "status": "completed"
    },
    "tags": []
   },
   "outputs": [
    {
     "data": {
      "image/png": "[encoded data removed]",
      "text/plain": [
       "<Figure size 1800x1800 with 5 Axes>"
      ]
     },
     "metadata": {
      "needs_background": "light"
     },
     "output_type": "display_data"
    }
   ],
   "source": [
    "fig, ax = plt.subplots(nrows=1, ncols=5, figsize=(25, 25))\n",
    "for i in range(5):\n",
    "    ax[i].imshow(augmented_train_features[i])\n",
    "    ax[i].axis('off')"
   ]
  },
  {
   "cell_type": "markdown",
   "id": "86f02da1",
   "metadata": {
    "papermill": {
     "duration": 0.351218,
     "end_time": "2022-05-11T12:32:49.348402",
     "exception": false,
     "start_time": "2022-05-11T12:32:48.997184",
     "status": "completed"
    },
    "tags": []
   },
   "source": [
    "That's it! This is a small tutorial for beginners to get started on data augmentation for digit images.\n",
    "\n",
    "For a tutorial on implementing a classification model for Bengali handwritten digit recognition, you can check this [notebook](https://www.kaggle.com/code/wchowdhu/tutorial-on-bengali-digit-classification).\n",
    "\n",
    "\n",
    "\n",
    "<span style=\"color:blue\">If you found this notebook helpful, please leave your feedback or any suggestions, and kindly upvote. Thanks!</span>"
   ]
  }
 ],
 "metadata": {
  "kernelspec": {
   "display_name": "Python 3",
   "language": "python",
   "name": "python3"
  },
  "language_info": {
   "codemirror_mode": {
    "name": "ipython",
    "version": 3
   },
   "file_extension": ".py",
   "mimetype": "text/x-python",
   "name": "python",
   "nbconvert_exporter": "python",
   "pygments_lexer": "ipython3",
   "version": "3.7.12"
  },
  "papermill": {
   "default_parameters": {},
   "duration": 120.31945,
   "end_time": "2022-05-11T12:32:50.492919",
   "environment_variables": {},
   "exception": null,
   "input_path": "__notebook__.ipynb",
   "output_path": "__notebook__.ipynb",
   "parameters": {},
   "start_time": "2022-05-11T12:30:50.173469",
   "version": "2.3.4"
  },
  "widgets": {
   "application/vnd.jupyter.widget-state+json": {
    "state": {
     "3900182e0d834e9b9ab8b4e7fb9d06b4": {
      "model_module": "@jupyter-widgets/controls",
      "model_module_version": "1.5.0",
      "model_name": "FloatProgressModel",
      "state": {
       "_dom_classes": [],
       "_model_module": "@jupyter-widgets/controls",
       "_model_module_version": "1.5.0",
       "_model_name": "FloatProgressModel",
       "_view_count": null,
       "_view_module": "@jupyter-widgets/controls",
       "_view_module_version": "1.5.0",
       "_view_name": "ProgressView",
       "bar_style": "success",
       "description": "",
       "description_tooltip": null,
       "layout": "IPY_MODEL_668b445745ac4875963150ecd50fc662",
       "max": 9996.0,
       "min": 0.0,
       "orientation": "horizontal",
       "style": "IPY_MODEL_e29e14950b8a4ea29f93d50988553e19",
       "value": 9996.0
      }
     },
     "668b445745ac4875963150ecd50fc662": {
      "model_module": "@jupyter-widgets/base",
      "model_module_version": "1.2.0",
      "model_name": "LayoutModel",
      "state": {
       "_model_module": "@jupyter-widgets/base",
       "_model_module_version": "1.2.0",
       "_model_name": "LayoutModel",
       "_view_count": null,
       "_view_module": "@jupyter-widgets/base",
       "_view_module_version": "1.2.0",
       "_view_name": "LayoutView",
       "align_content": null,
       "align_items": null,
       "align_self": null,
       "border": null,
       "bottom": null,
       "display": null,
       "flex": null,
       "flex_flow": null,
       "grid_area": null,
       "grid_auto_columns": null,
       "grid_auto_flow": null,
       "grid_auto_rows": null,
       "grid_column": null,
       "grid_gap": null,
       "grid_row": null,
       "grid_template_areas": null,
       "grid_template_columns": null,
       "grid_template_rows": null,
       "height": null,
       "justify_content": null,
       "justify_items": null,
       "left": null,
       "margin": null,
       "max_height": null,
       "max_width": null,
       "min_height": null,
       "min_width": null,
       "object_fit": null,
       "object_position": null,
       "order": null,
       "overflow": null,
       "overflow_x": null,
       "overflow_y": null,
       "padding": null,
       "right": null,
       "top": null,
       "visibility": null,
       "width": null
      }
     },
     "774d9371cc5a4dcc8e33e653de299c25": {
      "model_module": "@jupyter-widgets/base",
      "model_module_version": "1.2.0",
      "model_name": "LayoutModel",
      "state": {
       "_model_module": "@jupyter-widgets/base",
       "_model_module_version": "1.2.0",
       "_model_name": "LayoutModel",
       "_view_count": null,
       "_view_module": "@jupyter-widgets/base",
       "_view_module_version": "1.2.0",
       "_view_name": "LayoutView",
       "align_content": null,
       "align_items": null,
       "align_self": null,
       "border": null,
       "bottom": null,
       "display": null,
       "flex": null,
       "flex_flow": null,
       "grid_area": null,
       "grid_auto_columns": null,
       "grid_auto_flow": null,
       "grid_auto_rows": null,
       "grid_column": null,
       "grid_gap": null,
       "grid_row": null,
       "grid_template_areas": null,
       "grid_template_columns": null,
       "grid_template_rows": null,
       "height": null,
       "justify_content": null,
       "justify_items": null,
       "left": null,
       "margin": null,
       "max_height": null,
       "max_width": null,
       "min_height": null,
       "min_width": null,
       "object_fit": null,
       "object_position": null,
       "order": null,
       "overflow": null,
       "overflow_x": null,
       "overflow_y": null,
       "padding": null,
       "right": null,
       "top": null,
       "visibility": null,
       "width": null
      }
     },
     "87979235373946e5ac61e3bcbc28981e": {
      "model_module": "@jupyter-widgets/base",
      "model_module_version": "1.2.0",
      "model_name": "LayoutModel",
      "state": {
       "_model_module": "@jupyter-widgets/base",
       "_model_module_version": "1.2.0",
       "_model_name": "LayoutModel",
       "_view_count": null,
       "_view_module": "@jupyter-widgets/base",
       "_view_module_version": "1.2.0",
       "_view_name": "LayoutView",
       "align_content": null,
       "align_items": null,
       "align_self": null,
       "border": null,
       "bottom": null,
       "display": null,
       "flex": null,
       "flex_flow": null,
       "grid_area": null,
       "grid_auto_columns": null,
       "grid_auto_flow": null,
       "grid_auto_rows": null,
       "grid_column": null,
       "grid_gap": null,
       "grid_row": null,
       "grid_template_areas": null,
       "grid_template_columns": null,
       "grid_template_rows": null,
       "height": null,
       "justify_content": null,
       "justify_items": null,
       "left": null,
       "margin": null,
       "max_height": null,
       "max_width": null,
       "min_height": null,
       "min_width": null,
       "object_fit": null,
       "object_position": null,
       "order": null,
       "overflow": null,
       "overflow_x": null,
       "overflow_y": null,
       "padding": null,
       "right": null,
       "top": null,
       "visibility": null,
       "width": null
      }
     },
     "95525212fd774de4b17eaf0034656fe4": {
      "model_module": "@jupyter-widgets/controls",
      "model_module_version": "1.5.0",
      "model_name": "DescriptionStyleModel",
      "state": {
       "_model_module": "@jupyter-widgets/controls",
       "_model_module_version": "1.5.0",
       "_model_name": "DescriptionStyleModel",
       "_view_count": null,
       "_view_module": "@jupyter-widgets/base",
       "_view_module_version": "1.2.0",
       "_view_name": "StyleView",
       "description_width": ""
      }
     },
     "97e899fd6d3b49068610a7a2ea877577": {
      "model_module": "@jupyter-widgets/controls",
      "model_module_version": "1.5.0",
      "model_name": "HTMLModel",
      "state": {
       "_dom_classes": [],
       "_model_module": "@jupyter-widgets/controls",
       "_model_module_version": "1.5.0",
       "_model_name": "HTMLModel",
       "_view_count": null,
       "_view_module": "@jupyter-widgets/controls",
       "_view_module_version": "1.5.0",
       "_view_name": "HTMLView",
       "description": "",
       "description_tooltip": null,
       "layout": "IPY_MODEL_774d9371cc5a4dcc8e33e653de299c25",
       "placeholder": "​",
       "style": "IPY_MODEL_95525212fd774de4b17eaf0034656fe4",
       "value": "100%"
      }
     },
     "b354936f9815416dbfe635f3391b8b04": {
      "model_module": "@jupyter-widgets/base",
      "model_module_version": "1.2.0",
      "model_name": "LayoutModel",
      "state": {
       "_model_module": "@jupyter-widgets/base",
       "_model_module_version": "1.2.0",
       "_model_name": "LayoutModel",
       "_view_count": null,
       "_view_module": "@jupyter-widgets/base",
       "_view_module_version": "1.2.0",
       "_view_name": "LayoutView",
       "align_content": null,
       "align_items": null,
       "align_self": null,
       "border": null,
       "bottom": null,
       "display": null,
       "flex": null,
       "flex_flow": null,
       "grid_area": null,
       "grid_auto_columns": null,
       "grid_auto_flow": null,
       "grid_auto_rows": null,
       "grid_column": null,
       "grid_gap": null,
       "grid_row": null,
       "grid_template_areas": null,
       "grid_template_columns": null,
       "grid_template_rows": null,
       "height": null,
       "justify_content": null,
       "justify_items": null,
       "left": null,
       "margin": null,
       "max_height": null,
       "max_width": null,
       "min_height": null,
       "min_width": null,
       "object_fit": null,
       "object_position": null,
       "order": null,
       "overflow": null,
       "overflow_x": null,
       "overflow_y": null,
       "padding": null,
       "right": null,
       "top": null,
       "visibility": null,
       "width": null
      }
     },
     "b73e4035705840568ee6b6d78e31ab24": {
      "model_module": "@jupyter-widgets/controls",
      "model_module_version": "1.5.0",
      "model_name": "HBoxModel",
      "state": {
       "_dom_classes": [],
       "_model_module": "@jupyter-widgets/controls",
       "_model_module_version": "1.5.0",
       "_model_name": "HBoxModel",
       "_view_count": null,
       "_view_module": "@jupyter-widgets/controls",
       "_view_module_version": "1.5.0",
       "_view_name": "HBoxView",
       "box_style": "",
       "children": [
        "IPY_MODEL_97e899fd6d3b49068610a7a2ea877577",
        "IPY_MODEL_3900182e0d834e9b9ab8b4e7fb9d06b4",
        "IPY_MODEL_f87211ac67e54cb89a23132fe2830014"
       ],
       "layout": "IPY_MODEL_87979235373946e5ac61e3bcbc28981e"
      }
     },
     "e29e14950b8a4ea29f93d50988553e19": {
      "model_module": "@jupyter-widgets/controls",
      "model_module_version": "1.5.0",
      "model_name": "ProgressStyleModel",
      "state": {
       "_model_module": "@jupyter-widgets/controls",
       "_model_module_version": "1.5.0",
       "_model_name": "ProgressStyleModel",
       "_view_count": null,
       "_view_module": "@jupyter-widgets/base",
       "_view_module_version": "1.2.0",
       "_view_name": "StyleView",
       "bar_color": null,
       "description_width": ""
      }
     },
     "e628f196a3f540a98fbed0f27e2179c1": {
      "model_module": "@jupyter-widgets/controls",
      "model_module_version": "1.5.0",
      "model_name": "DescriptionStyleModel",
      "state": {
       "_model_module": "@jupyter-widgets/controls",
       "_model_module_version": "1.5.0",
       "_model_name": "DescriptionStyleModel",
       "_view_count": null,
       "_view_module": "@jupyter-widgets/base",
       "_view_module_version": "1.2.0",
       "_view_name": "StyleView",
       "description_width": ""
      }
     },
     "f87211ac67e54cb89a23132fe2830014": {
      "model_module": "@jupyter-widgets/controls",
      "model_module_version": "1.5.0",
      "model_name": "HTMLModel",
      "state": {
       "_dom_classes": [],
       "_model_module": "@jupyter-widgets/controls",
       "_model_module_version": "1.5.0",
       "_model_name": "HTMLModel",
       "_view_count": null,
       "_view_module": "@jupyter-widgets/controls",
       "_view_module_version": "1.5.0",
       "_view_name": "HTMLView",
       "description": "",
       "description_tooltip": null,
       "layout": "IPY_MODEL_b354936f9815416dbfe635f3391b8b04",
       "placeholder": "​",
       "style": "IPY_MODEL_e628f196a3f540a98fbed0f27e2179c1",
       "value": " 9996/9996 [00:10&lt;00:00, 942.70it/s]"
      }
     }
    },
    "version_major": 2,
    "version_minor": 0
   }
  }
 },
 "nbformat": 4,
 "nbformat_minor": 5
}
